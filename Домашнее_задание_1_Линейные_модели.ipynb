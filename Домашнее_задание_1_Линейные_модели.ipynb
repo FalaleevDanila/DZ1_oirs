{
 "nbformat": 4,
 "nbformat_minor": 0,
 "metadata": {
  "colab": {
   "name": "Домашнее задание 1. Линейные модели.ipynb",
   "provenance": [],
   "collapsed_sections": []
  },
  "kernelspec": {
   "name": "python3",
   "display_name": "Python 3"
  },
  "language_info": {
   "name": "python"
  }
 },
 "cells": [
  {
   "cell_type": "markdown",
   "source": [
    " # Домашнее задание 1. Линейные модели"
   ],
   "metadata": {
    "id": "ob7zZxZ2W0Np",
    "pycharm": {
     "name": "#%% md\n"
    }
   }
  },
  {
   "cell_type": "markdown",
   "source": [
    "### FALALEEV DANILA IU8-83 17 variant"
   ],
   "metadata": {
    "id": "vUPbnxUaWtTn",
    "pycharm": {
     "name": "#%% md\n"
    }
   }
  },
  {
   "cell_type": "markdown",
   "source": [
    "В зависимости от варианта, для решения задачи используйте следующие наборы данных:\n",
    "\n",
    "<table>\n",
    "    <thead>\n",
    "         <tr>\n",
    "            <th colspan=1>Задача классификации</th>\n",
    "            <th colspan=5>Задача регрессии</th>\n",
    "        </tr>\n",
    "        <tr>\n",
    "            <th> </th>\n",
    "            <th>A</th>\n",
    "            <th>B</th>\n",
    "            <th>C</th>\n",
    "            <th>D</th>\n",
    "            <th>E</th>\n",
    "        </tr>\n",
    "    </thead>\n",
    "    <tbody>\n",
    "        <tr>\n",
    "            <td>K</td>\n",
    "            <td style=\\\"background-color: #cc2020\\\">1</td>\n",
    "            <td style=\\\"background-color: #cc2020\\\">2</td>\n",
    "            <td style=\\\"background-color: #cc2020\\\">3</td>\n",
    "            <td style=\\\"background-color: #cc2020\\\">4</td>\n",
    "            <td style=\\\"background-color: #cc2020\\\">5</td>\n",
    "        </tr>\n",
    "        <tr>\n",
    "            <td>L</td>\n",
    "            <td style=\\\"background-color: #cc2020\\\">6</td>\n",
    "            <td style=\\\"background-color: #cc2020\\\">7</td>\n",
    "            <td style=\\\"background-color: #cc2020\\\">8</td>\n",
    "            <td style=\\\"background-color: #cc2020\\\">9</td>\n",
    "            <td style=\\\"background-color: #cc2020\\\">10</td>\n",
    "        </tr>\n",
    "        <tr>\n",
    "            <td>M</td>\n",
    "            <td style=\\\"background-color: #cc2020\\\">11</td>\n",
    "            <td style=\\\"background-color: #cc2020\\\">12</td>\n",
    "            <td style=\\\"background-color: #cc2020\\\">13</td>\n",
    "            <td style=\\\"background-color: #cc2020\\\">14</td>\n",
    "            <td style=\\\"background-color: #cc2020\\\">15</td>\n",
    "        </tr>\n",
    "        <tr>\n",
    "            <td>N</td>\n",
    "            <td style=\\\"background-color: #cc2020\\\">16</td>\n",
    "            <td>17</td>\n",
    "            <td style=\\\"background-color: #cc2020\\\">18</td>\n",
    "            <td style=\\\"background-color: #cc2020\\\">19</td>\n",
    "            <td style=\\\"background-color: #cc2020\\\">20</td>\n",
    "        </tr>\n",
    "        <tr>\n",
    "            <td>O</td>\n",
    "            <td style=\\\"background-color: #cc2020\\\">21</td>\n",
    "            <td style=\\\"background-color: #cc2020\\\">22</td>\n",
    "            <td style=\\\"background-color: #cc2020\\\">23</td>\n",
    "            <td style=\\\"background-color: #cc2020\\\">24</td>\n",
    "            <td style=\\\"background-color: #cc2020\\\">25</td>\n",
    "        </tr>\n",
    "    </tbody>\n",
    "</table>"
   ],
   "metadata": {
    "id": "Yhi_UjnwGeN-",
    "pycharm": {
     "name": "#%% md\n"
    }
   }
  },
  {
   "cell_type": "markdown",
   "source": [
    "### Наборы данных\n",
    "\n",
    "**Задача регрессии**\n",
    "\n",
    "A. [Набор данных](https://www.kaggle.com/aungpyaeap/fish-market) Таблица `Fish.csv`. Задача: построить модель, предсказывающую вес рыбы (колонка `Weight`). Baseline: RMSE (root mean square error) = 83.7\n",
    "\n",
    "B. [Набор данных](https://www.kaggle.com/nehalbirla/vehicle-dataset-from-cardekho) Таблица `Car details v3.csv`. Задача: построить модель, предсказывающую стоимость автомобиля (колонка `selling_price`). Baseline: RMSE (root mean square error) = 110000\n",
    "\n",
    "C. [Набор данных](https://www.kaggle.com/quantbruce/real-estate-price-prediction) Таблица `Real estate.csv`. Задача: построить модель, предсказывающую стоимость квадратного метра жилья (колонка `Y house price of unit area`). Baseline: RMSE (root mean square error) = 8\n",
    "\n",
    "D. [Набор данных](https://www.kaggle.com/mirichoi0218/insurance) Таблица `insurance.csv`. Задача: построить модель, предсказывающую стоимость медицинской страховки (колонка `charges`). Baseline: RMSE (root mean square error) = 5800\n",
    "\n",
    "E. [Набор данных](https://archive.ics.uci.edu/ml/machine-learning-databases/wine-quality/) Объединить таблицы `winequality-white.csv` и `winequality-red.csv`. Задача: построить модель, предсказывающую качество вина (колонка `quality`). Baseline: RMSE (root mean square error) = 0.8\n",
    "\n",
    "\n",
    "---\n",
    "\n",
    "**Задача классификации**\n",
    "\n",
    "K. [Набор данных](https://www.kaggle.com/c/jigsaw-toxic-comment-classification-challenge/data) Таблица `train.csv`. Задача: детектировать токсичные комментарии (0 или 1 в колонке `toxic`) исключительно по содержимому комментария (колонка `comment_text`). Baseline: sklearn.metrics.f1_score(average='macro') по колонке `toxic` = 0.86\n",
    "\n",
    "L. [Набор данных](https://www.kaggle.com/pavansubhasht/ibm-hr-analytics-attrition-dataset) Таблица `WA_Fn-UseC_-HR-Employee-Attrition.csv`. Задача: предсказать увольнение сотрудника (колонка `attrition`). Baseline: sklearn.metrics.f1_score(average='macro') = 0.70\n",
    "\n",
    "M. [Набор данных](https://www.kaggle.com/uciml/sms-spam-collection-dataset) Таблица `spam.csv` (при загрузку датасета в питоне использовать кодировку encoding='latin-1'). Задача: детектировать, является ли СМС-сообщение спамом. Baseline: sklearn.metrics.f1_score(average='macro') = 0.95\n",
    "\n",
    "N. [Набор данных](https://www.kaggle.com/uciml/pima-indians-diabetes-database) Таблица `diabetes.csv`. Задача: детектировать, есть ли у человека диабет. Baseline: sklearn.metrics.f1_score(average='macro') = 0.73\n",
    "\n",
    "O. [Набор данных](https://www.kaggle.com/fedesoriano/stroke-prediction-dataset) Таблица `healthcare-dataset-stroke-data.csv`. Задача: детектировать, был ли у человека инсульт. Baseline: sklearn.metrics.f1_score(average='macro') = 0.56\n"
   ],
   "metadata": {
    "id": "tPE-QsRUCGjY",
    "pycharm": {
     "name": "#%% md\n"
    }
   }
  },
  {
   "cell_type": "markdown",
   "source": [
    "# 0. Инициализация ноутбука\n",
    "\n",
    "Загрузка необходимых библиотек"
   ],
   "metadata": {
    "id": "eTQftz5yJ0Qf",
    "pycharm": {
     "name": "#%% md\n"
    }
   }
  },
  {
   "cell_type": "code",
   "source": [
    "import numpy as np\n",
    "import pandas as pd\n",
    "import matplotlib.pyplot as plt\n",
    "import seaborn as sns\n",
    "from  sklearn.metrics import mean_squared_error"
   ],
   "metadata": {
    "id": "3MGNvut_Jnd3",
    "pycharm": {
     "name": "#%%\n"
    }
   },
   "execution_count": 48,
   "outputs": []
  },
  {
   "cell_type": "markdown",
   "source": [
    "# 1. Задача регресссии (9 баллов)\n",
    "\n",
    "Постройте модель машинного обучения, решающую задачу регресии на вашем наборе данных. Задание считается выполненным, если соответствующая оценка качества на тестовой выборке >= baseline."
   ],
   "metadata": {
    "id": "-L4jbO78B-kv",
    "pycharm": {
     "name": "#%% md\n"
    }
   }
  },
  {
   "cell_type": "markdown",
   "source": [
    "## 1.1 Загрузка данных\n",
    "\n",
    "Загрузите данные в датафрейм при помощи функции `read_csv` блиблиотеки pandas"
   ],
   "metadata": {
    "id": "eKbd7LAqCFSj",
    "pycharm": {
     "name": "#%% md\n"
    }
   }
  },
  {
   "cell_type": "code",
   "source": [
    "car_details = pd.read_csv('./Car details v3.csv')\n",
    "\n",
    "car_details = car_details.dropna()\n",
    "car_details"
   ],
   "metadata": {
    "id": "UJhaFPwm0KTf",
    "pycharm": {
     "name": "#%%\n"
    }
   },
   "execution_count": 49,
   "outputs": [
    {
     "data": {
      "text/plain": "                              name  year  selling_price  km_driven    fuel  \\\n0           Maruti Swift Dzire VDI  2014         450000     145500  Diesel   \n1     Skoda Rapid 1.5 TDI Ambition  2014         370000     120000  Diesel   \n2         Honda City 2017-2020 EXi  2006         158000     140000  Petrol   \n3        Hyundai i20 Sportz Diesel  2010         225000     127000  Diesel   \n4           Maruti Swift VXI BSIII  2007         130000     120000  Petrol   \n...                            ...   ...            ...        ...     ...   \n8123             Hyundai i20 Magna  2013         320000     110000  Petrol   \n8124         Hyundai Verna CRDi SX  2007         135000     119000  Diesel   \n8125        Maruti Swift Dzire ZDi  2009         382000     120000  Diesel   \n8126               Tata Indigo CR4  2013         290000      25000  Diesel   \n8127               Tata Indigo CR4  2013         290000      25000  Diesel   \n\n     seller_type transmission                 owner     mileage   engine  \\\n0     Individual       Manual           First Owner   23.4 kmpl  1248 CC   \n1     Individual       Manual          Second Owner  21.14 kmpl  1498 CC   \n2     Individual       Manual           Third Owner   17.7 kmpl  1497 CC   \n3     Individual       Manual           First Owner   23.0 kmpl  1396 CC   \n4     Individual       Manual           First Owner   16.1 kmpl  1298 CC   \n...          ...          ...                   ...         ...      ...   \n8123  Individual       Manual           First Owner   18.5 kmpl  1197 CC   \n8124  Individual       Manual  Fourth & Above Owner   16.8 kmpl  1493 CC   \n8125  Individual       Manual           First Owner   19.3 kmpl  1248 CC   \n8126  Individual       Manual           First Owner  23.57 kmpl  1396 CC   \n8127  Individual       Manual           First Owner  23.57 kmpl  1396 CC   \n\n       max_power                     torque  seats  \n0         74 bhp             190Nm@ 2000rpm    5.0  \n1     103.52 bhp        250Nm@ 1500-2500rpm    5.0  \n2         78 bhp      12.7@ 2,700(kgm@ rpm)    5.0  \n3         90 bhp   22.4 kgm at 1750-2750rpm    5.0  \n4       88.2 bhp      11.5@ 4,500(kgm@ rpm)    5.0  \n...          ...                        ...    ...  \n8123   82.85 bhp           113.7Nm@ 4000rpm    5.0  \n8124     110 bhp  24@ 1,900-2,750(kgm@ rpm)    5.0  \n8125    73.9 bhp             190Nm@ 2000rpm    5.0  \n8126      70 bhp        140Nm@ 1800-3000rpm    5.0  \n8127      70 bhp        140Nm@ 1800-3000rpm    5.0  \n\n[7906 rows x 13 columns]",
      "text/html": "<div>\n<style scoped>\n    .dataframe tbody tr th:only-of-type {\n        vertical-align: middle;\n    }\n\n    .dataframe tbody tr th {\n        vertical-align: top;\n    }\n\n    .dataframe thead th {\n        text-align: right;\n    }\n</style>\n<table border=\"1\" class=\"dataframe\">\n  <thead>\n    <tr style=\"text-align: right;\">\n      <th></th>\n      <th>name</th>\n      <th>year</th>\n      <th>selling_price</th>\n      <th>km_driven</th>\n      <th>fuel</th>\n      <th>seller_type</th>\n      <th>transmission</th>\n      <th>owner</th>\n      <th>mileage</th>\n      <th>engine</th>\n      <th>max_power</th>\n      <th>torque</th>\n      <th>seats</th>\n    </tr>\n  </thead>\n  <tbody>\n    <tr>\n      <th>0</th>\n      <td>Maruti Swift Dzire VDI</td>\n      <td>2014</td>\n      <td>450000</td>\n      <td>145500</td>\n      <td>Diesel</td>\n      <td>Individual</td>\n      <td>Manual</td>\n      <td>First Owner</td>\n      <td>23.4 kmpl</td>\n      <td>1248 CC</td>\n      <td>74 bhp</td>\n      <td>190Nm@ 2000rpm</td>\n      <td>5.0</td>\n    </tr>\n    <tr>\n      <th>1</th>\n      <td>Skoda Rapid 1.5 TDI Ambition</td>\n      <td>2014</td>\n      <td>370000</td>\n      <td>120000</td>\n      <td>Diesel</td>\n      <td>Individual</td>\n      <td>Manual</td>\n      <td>Second Owner</td>\n      <td>21.14 kmpl</td>\n      <td>1498 CC</td>\n      <td>103.52 bhp</td>\n      <td>250Nm@ 1500-2500rpm</td>\n      <td>5.0</td>\n    </tr>\n    <tr>\n      <th>2</th>\n      <td>Honda City 2017-2020 EXi</td>\n      <td>2006</td>\n      <td>158000</td>\n      <td>140000</td>\n      <td>Petrol</td>\n      <td>Individual</td>\n      <td>Manual</td>\n      <td>Third Owner</td>\n      <td>17.7 kmpl</td>\n      <td>1497 CC</td>\n      <td>78 bhp</td>\n      <td>12.7@ 2,700(kgm@ rpm)</td>\n      <td>5.0</td>\n    </tr>\n    <tr>\n      <th>3</th>\n      <td>Hyundai i20 Sportz Diesel</td>\n      <td>2010</td>\n      <td>225000</td>\n      <td>127000</td>\n      <td>Diesel</td>\n      <td>Individual</td>\n      <td>Manual</td>\n      <td>First Owner</td>\n      <td>23.0 kmpl</td>\n      <td>1396 CC</td>\n      <td>90 bhp</td>\n      <td>22.4 kgm at 1750-2750rpm</td>\n      <td>5.0</td>\n    </tr>\n    <tr>\n      <th>4</th>\n      <td>Maruti Swift VXI BSIII</td>\n      <td>2007</td>\n      <td>130000</td>\n      <td>120000</td>\n      <td>Petrol</td>\n      <td>Individual</td>\n      <td>Manual</td>\n      <td>First Owner</td>\n      <td>16.1 kmpl</td>\n      <td>1298 CC</td>\n      <td>88.2 bhp</td>\n      <td>11.5@ 4,500(kgm@ rpm)</td>\n      <td>5.0</td>\n    </tr>\n    <tr>\n      <th>...</th>\n      <td>...</td>\n      <td>...</td>\n      <td>...</td>\n      <td>...</td>\n      <td>...</td>\n      <td>...</td>\n      <td>...</td>\n      <td>...</td>\n      <td>...</td>\n      <td>...</td>\n      <td>...</td>\n      <td>...</td>\n      <td>...</td>\n    </tr>\n    <tr>\n      <th>8123</th>\n      <td>Hyundai i20 Magna</td>\n      <td>2013</td>\n      <td>320000</td>\n      <td>110000</td>\n      <td>Petrol</td>\n      <td>Individual</td>\n      <td>Manual</td>\n      <td>First Owner</td>\n      <td>18.5 kmpl</td>\n      <td>1197 CC</td>\n      <td>82.85 bhp</td>\n      <td>113.7Nm@ 4000rpm</td>\n      <td>5.0</td>\n    </tr>\n    <tr>\n      <th>8124</th>\n      <td>Hyundai Verna CRDi SX</td>\n      <td>2007</td>\n      <td>135000</td>\n      <td>119000</td>\n      <td>Diesel</td>\n      <td>Individual</td>\n      <td>Manual</td>\n      <td>Fourth &amp; Above Owner</td>\n      <td>16.8 kmpl</td>\n      <td>1493 CC</td>\n      <td>110 bhp</td>\n      <td>24@ 1,900-2,750(kgm@ rpm)</td>\n      <td>5.0</td>\n    </tr>\n    <tr>\n      <th>8125</th>\n      <td>Maruti Swift Dzire ZDi</td>\n      <td>2009</td>\n      <td>382000</td>\n      <td>120000</td>\n      <td>Diesel</td>\n      <td>Individual</td>\n      <td>Manual</td>\n      <td>First Owner</td>\n      <td>19.3 kmpl</td>\n      <td>1248 CC</td>\n      <td>73.9 bhp</td>\n      <td>190Nm@ 2000rpm</td>\n      <td>5.0</td>\n    </tr>\n    <tr>\n      <th>8126</th>\n      <td>Tata Indigo CR4</td>\n      <td>2013</td>\n      <td>290000</td>\n      <td>25000</td>\n      <td>Diesel</td>\n      <td>Individual</td>\n      <td>Manual</td>\n      <td>First Owner</td>\n      <td>23.57 kmpl</td>\n      <td>1396 CC</td>\n      <td>70 bhp</td>\n      <td>140Nm@ 1800-3000rpm</td>\n      <td>5.0</td>\n    </tr>\n    <tr>\n      <th>8127</th>\n      <td>Tata Indigo CR4</td>\n      <td>2013</td>\n      <td>290000</td>\n      <td>25000</td>\n      <td>Diesel</td>\n      <td>Individual</td>\n      <td>Manual</td>\n      <td>First Owner</td>\n      <td>23.57 kmpl</td>\n      <td>1396 CC</td>\n      <td>70 bhp</td>\n      <td>140Nm@ 1800-3000rpm</td>\n      <td>5.0</td>\n    </tr>\n  </tbody>\n</table>\n<p>7906 rows × 13 columns</p>\n</div>"
     },
     "execution_count": 49,
     "metadata": {},
     "output_type": "execute_result"
    }
   ]
  },
  {
   "cell_type": "markdown",
   "source": [
    "## 1.2 График совместного распределения признаков\n",
    "\n",
    "\n",
    "Постройте график совместного распределения количественных признаков при помощи функции pairplot библиотеки seaborn"
   ],
   "metadata": {
    "id": "tQ_ZBqyRCYZC",
    "pycharm": {
     "name": "#%% md\n"
    }
   }
  },
  {
   "cell_type": "code",
   "source": [
    "sns.pairplot(car_details)"
   ],
   "metadata": {
    "id": "hTASV_TJCT4g",
    "pycharm": {
     "name": "#%%\n"
    }
   },
   "execution_count": 50,
   "outputs": [
    {
     "data": {
      "text/plain": "<seaborn.axisgrid.PairGrid at 0x298f70a30>"
     },
     "execution_count": 50,
     "metadata": {},
     "output_type": "execute_result"
    },
    {
     "data": {
      "text/plain": "<Figure size 720x720 with 20 Axes>",
      "image/png": "[encoded data removed]"
     },
     "metadata": {},
     "output_type": "display_data"
    }
   ]
  },
  {
   "cell_type": "code",
   "execution_count": 51,
   "outputs": [
    {
     "data": {
      "text/plain": "                              name  year  selling_price  km_driven  fuel  \\\n0           Maruti Swift Dzire VDI  2014         450000     145500     0   \n1     Skoda Rapid 1.5 TDI Ambition  2014         370000     120000     0   \n2         Honda City 2017-2020 EXi  2006         158000     140000     1   \n3        Hyundai i20 Sportz Diesel  2010         225000     127000     0   \n4           Maruti Swift VXI BSIII  2007         130000     120000     1   \n...                            ...   ...            ...        ...   ...   \n8123             Hyundai i20 Magna  2013         320000     110000     1   \n8124         Hyundai Verna CRDi SX  2007         135000     119000     0   \n8125        Maruti Swift Dzire ZDi  2009         382000     120000     0   \n8126               Tata Indigo CR4  2013         290000      25000     0   \n8127               Tata Indigo CR4  2013         290000      25000     0   \n\n      seller_type  transmission  owner     mileage   engine   max_power  \\\n0               0             0      0   23.4 kmpl  1248 CC      74 bhp   \n1               0             0      1  21.14 kmpl  1498 CC  103.52 bhp   \n2               0             0      2   17.7 kmpl  1497 CC      78 bhp   \n3               0             0      0   23.0 kmpl  1396 CC      90 bhp   \n4               0             0      0   16.1 kmpl  1298 CC    88.2 bhp   \n...           ...           ...    ...         ...      ...         ...   \n8123            0             0      0   18.5 kmpl  1197 CC   82.85 bhp   \n8124            0             0      3   16.8 kmpl  1493 CC     110 bhp   \n8125            0             0      0   19.3 kmpl  1248 CC    73.9 bhp   \n8126            0             0      0  23.57 kmpl  1396 CC      70 bhp   \n8127            0             0      0  23.57 kmpl  1396 CC      70 bhp   \n\n                         torque  seats  \n0                190Nm@ 2000rpm    5.0  \n1           250Nm@ 1500-2500rpm    5.0  \n2         12.7@ 2,700(kgm@ rpm)    5.0  \n3      22.4 kgm at 1750-2750rpm    5.0  \n4         11.5@ 4,500(kgm@ rpm)    5.0  \n...                         ...    ...  \n8123           113.7Nm@ 4000rpm    5.0  \n8124  24@ 1,900-2,750(kgm@ rpm)    5.0  \n8125             190Nm@ 2000rpm    5.0  \n8126        140Nm@ 1800-3000rpm    5.0  \n8127        140Nm@ 1800-3000rpm    5.0  \n\n[7906 rows x 13 columns]",
      "text/html": "<div>\n<style scoped>\n    .dataframe tbody tr th:only-of-type {\n        vertical-align: middle;\n    }\n\n    .dataframe tbody tr th {\n        vertical-align: top;\n    }\n\n    .dataframe thead th {\n        text-align: right;\n    }\n</style>\n<table border=\"1\" class=\"dataframe\">\n  <thead>\n    <tr style=\"text-align: right;\">\n      <th></th>\n      <th>name</th>\n      <th>year</th>\n      <th>selling_price</th>\n      <th>km_driven</th>\n      <th>fuel</th>\n      <th>seller_type</th>\n      <th>transmission</th>\n      <th>owner</th>\n      <th>mileage</th>\n      <th>engine</th>\n      <th>max_power</th>\n      <th>torque</th>\n      <th>seats</th>\n    </tr>\n  </thead>\n  <tbody>\n    <tr>\n      <th>0</th>\n      <td>Maruti Swift Dzire VDI</td>\n      <td>2014</td>\n      <td>450000</td>\n      <td>145500</td>\n      <td>0</td>\n      <td>0</td>\n      <td>0</td>\n      <td>0</td>\n      <td>23.4 kmpl</td>\n      <td>1248 CC</td>\n      <td>74 bhp</td>\n      <td>190Nm@ 2000rpm</td>\n      <td>5.0</td>\n    </tr>\n    <tr>\n      <th>1</th>\n      <td>Skoda Rapid 1.5 TDI Ambition</td>\n      <td>2014</td>\n      <td>370000</td>\n      <td>120000</td>\n      <td>0</td>\n      <td>0</td>\n      <td>0</td>\n      <td>1</td>\n      <td>21.14 kmpl</td>\n      <td>1498 CC</td>\n      <td>103.52 bhp</td>\n      <td>250Nm@ 1500-2500rpm</td>\n      <td>5.0</td>\n    </tr>\n    <tr>\n      <th>2</th>\n      <td>Honda City 2017-2020 EXi</td>\n      <td>2006</td>\n      <td>158000</td>\n      <td>140000</td>\n      <td>1</td>\n      <td>0</td>\n      <td>0</td>\n      <td>2</td>\n      <td>17.7 kmpl</td>\n      <td>1497 CC</td>\n      <td>78 bhp</td>\n      <td>12.7@ 2,700(kgm@ rpm)</td>\n      <td>5.0</td>\n    </tr>\n    <tr>\n      <th>3</th>\n      <td>Hyundai i20 Sportz Diesel</td>\n      <td>2010</td>\n      <td>225000</td>\n      <td>127000</td>\n      <td>0</td>\n      <td>0</td>\n      <td>0</td>\n      <td>0</td>\n      <td>23.0 kmpl</td>\n      <td>1396 CC</td>\n      <td>90 bhp</td>\n      <td>22.4 kgm at 1750-2750rpm</td>\n      <td>5.0</td>\n    </tr>\n    <tr>\n      <th>4</th>\n      <td>Maruti Swift VXI BSIII</td>\n      <td>2007</td>\n      <td>130000</td>\n      <td>120000</td>\n      <td>1</td>\n      <td>0</td>\n      <td>0</td>\n      <td>0</td>\n      <td>16.1 kmpl</td>\n      <td>1298 CC</td>\n      <td>88.2 bhp</td>\n      <td>11.5@ 4,500(kgm@ rpm)</td>\n      <td>5.0</td>\n    </tr>\n    <tr>\n      <th>...</th>\n      <td>...</td>\n      <td>...</td>\n      <td>...</td>\n      <td>...</td>\n      <td>...</td>\n      <td>...</td>\n      <td>...</td>\n      <td>...</td>\n      <td>...</td>\n      <td>...</td>\n      <td>...</td>\n      <td>...</td>\n      <td>...</td>\n    </tr>\n    <tr>\n      <th>8123</th>\n      <td>Hyundai i20 Magna</td>\n      <td>2013</td>\n      <td>320000</td>\n      <td>110000</td>\n      <td>1</td>\n      <td>0</td>\n      <td>0</td>\n      <td>0</td>\n      <td>18.5 kmpl</td>\n      <td>1197 CC</td>\n      <td>82.85 bhp</td>\n      <td>113.7Nm@ 4000rpm</td>\n      <td>5.0</td>\n    </tr>\n    <tr>\n      <th>8124</th>\n      <td>Hyundai Verna CRDi SX</td>\n      <td>2007</td>\n      <td>135000</td>\n      <td>119000</td>\n      <td>0</td>\n      <td>0</td>\n      <td>0</td>\n      <td>3</td>\n      <td>16.8 kmpl</td>\n      <td>1493 CC</td>\n      <td>110 bhp</td>\n      <td>24@ 1,900-2,750(kgm@ rpm)</td>\n      <td>5.0</td>\n    </tr>\n    <tr>\n      <th>8125</th>\n      <td>Maruti Swift Dzire ZDi</td>\n      <td>2009</td>\n      <td>382000</td>\n      <td>120000</td>\n      <td>0</td>\n      <td>0</td>\n      <td>0</td>\n      <td>0</td>\n      <td>19.3 kmpl</td>\n      <td>1248 CC</td>\n      <td>73.9 bhp</td>\n      <td>190Nm@ 2000rpm</td>\n      <td>5.0</td>\n    </tr>\n    <tr>\n      <th>8126</th>\n      <td>Tata Indigo CR4</td>\n      <td>2013</td>\n      <td>290000</td>\n      <td>25000</td>\n      <td>0</td>\n      <td>0</td>\n      <td>0</td>\n      <td>0</td>\n      <td>23.57 kmpl</td>\n      <td>1396 CC</td>\n      <td>70 bhp</td>\n      <td>140Nm@ 1800-3000rpm</td>\n      <td>5.0</td>\n    </tr>\n    <tr>\n      <th>8127</th>\n      <td>Tata Indigo CR4</td>\n      <td>2013</td>\n      <td>290000</td>\n      <td>25000</td>\n      <td>0</td>\n      <td>0</td>\n      <td>0</td>\n      <td>0</td>\n      <td>23.57 kmpl</td>\n      <td>1396 CC</td>\n      <td>70 bhp</td>\n      <td>140Nm@ 1800-3000rpm</td>\n      <td>5.0</td>\n    </tr>\n  </tbody>\n</table>\n<p>7906 rows × 13 columns</p>\n</div>"
     },
     "execution_count": 51,
     "metadata": {},
     "output_type": "execute_result"
    }
   ],
   "source": [
    "' Переведем все строковые параметры в числа'\n",
    "car_details[['fuel',\n",
    "             'seller_type',\n",
    "             'transmission',\n",
    "             'owner']] = car_details[['fuel',\n",
    "                                      'seller_type',\n",
    "                                      'transmission',\n",
    "                                      'owner']].apply(lambda x: pd.factorize(x)[0])\n",
    "\n",
    "\n",
    "\n",
    "car_details"
   ],
   "metadata": {
    "collapsed": false,
    "pycharm": {
     "name": "#%%\n"
    }
   }
  },
  {
   "cell_type": "code",
   "execution_count": 52,
   "outputs": [
    {
     "data": {
      "text/plain": "                              name  year  selling_price  km_driven  fuel  \\\n0           Maruti Swift Dzire VDI  2014         450000     145500     0   \n1     Skoda Rapid 1.5 TDI Ambition  2014         370000     120000     0   \n2         Honda City 2017-2020 EXi  2006         158000     140000     1   \n3        Hyundai i20 Sportz Diesel  2010         225000     127000     0   \n4           Maruti Swift VXI BSIII  2007         130000     120000     1   \n...                            ...   ...            ...        ...   ...   \n8123             Hyundai i20 Magna  2013         320000     110000     1   \n8124         Hyundai Verna CRDi SX  2007         135000     119000     0   \n8125        Maruti Swift Dzire ZDi  2009         382000     120000     0   \n8126               Tata Indigo CR4  2013         290000      25000     0   \n8127               Tata Indigo CR4  2013         290000      25000     0   \n\n      seller_type  transmission  owner     mileage  engine  max_power  \\\n0               0             0      0   23.4 kmpl  1248.0      74.00   \n1               0             0      1  21.14 kmpl  1498.0     103.52   \n2               0             0      2   17.7 kmpl  1497.0      78.00   \n3               0             0      0   23.0 kmpl  1396.0      90.00   \n4               0             0      0   16.1 kmpl  1298.0      88.20   \n...           ...           ...    ...         ...     ...        ...   \n8123            0             0      0   18.5 kmpl  1197.0      82.85   \n8124            0             0      3   16.8 kmpl  1493.0     110.00   \n8125            0             0      0   19.3 kmpl  1248.0      73.90   \n8126            0             0      0  23.57 kmpl  1396.0      70.00   \n8127            0             0      0  23.57 kmpl  1396.0      70.00   \n\n                         torque  seats  \n0                190Nm@ 2000rpm    5.0  \n1           250Nm@ 1500-2500rpm    5.0  \n2         12.7@ 2,700(kgm@ rpm)    5.0  \n3      22.4 kgm at 1750-2750rpm    5.0  \n4         11.5@ 4,500(kgm@ rpm)    5.0  \n...                         ...    ...  \n8123           113.7Nm@ 4000rpm    5.0  \n8124  24@ 1,900-2,750(kgm@ rpm)    5.0  \n8125             190Nm@ 2000rpm    5.0  \n8126        140Nm@ 1800-3000rpm    5.0  \n8127        140Nm@ 1800-3000rpm    5.0  \n\n[7906 rows x 13 columns]",
      "text/html": "<div>\n<style scoped>\n    .dataframe tbody tr th:only-of-type {\n        vertical-align: middle;\n    }\n\n    .dataframe tbody tr th {\n        vertical-align: top;\n    }\n\n    .dataframe thead th {\n        text-align: right;\n    }\n</style>\n<table border=\"1\" class=\"dataframe\">\n  <thead>\n    <tr style=\"text-align: right;\">\n      <th></th>\n      <th>name</th>\n      <th>year</th>\n      <th>selling_price</th>\n      <th>km_driven</th>\n      <th>fuel</th>\n      <th>seller_type</th>\n      <th>transmission</th>\n      <th>owner</th>\n      <th>mileage</th>\n      <th>engine</th>\n      <th>max_power</th>\n      <th>torque</th>\n      <th>seats</th>\n    </tr>\n  </thead>\n  <tbody>\n    <tr>\n      <th>0</th>\n      <td>Maruti Swift Dzire VDI</td>\n      <td>2014</td>\n      <td>450000</td>\n      <td>145500</td>\n      <td>0</td>\n      <td>0</td>\n      <td>0</td>\n      <td>0</td>\n      <td>23.4 kmpl</td>\n      <td>1248.0</td>\n      <td>74.00</td>\n      <td>190Nm@ 2000rpm</td>\n      <td>5.0</td>\n    </tr>\n    <tr>\n      <th>1</th>\n      <td>Skoda Rapid 1.5 TDI Ambition</td>\n      <td>2014</td>\n      <td>370000</td>\n      <td>120000</td>\n      <td>0</td>\n      <td>0</td>\n      <td>0</td>\n      <td>1</td>\n      <td>21.14 kmpl</td>\n      <td>1498.0</td>\n      <td>103.52</td>\n      <td>250Nm@ 1500-2500rpm</td>\n      <td>5.0</td>\n    </tr>\n    <tr>\n      <th>2</th>\n      <td>Honda City 2017-2020 EXi</td>\n      <td>2006</td>\n      <td>158000</td>\n      <td>140000</td>\n      <td>1</td>\n      <td>0</td>\n      <td>0</td>\n      <td>2</td>\n      <td>17.7 kmpl</td>\n      <td>1497.0</td>\n      <td>78.00</td>\n      <td>12.7@ 2,700(kgm@ rpm)</td>\n      <td>5.0</td>\n    </tr>\n    <tr>\n      <th>3</th>\n      <td>Hyundai i20 Sportz Diesel</td>\n      <td>2010</td>\n      <td>225000</td>\n      <td>127000</td>\n      <td>0</td>\n      <td>0</td>\n      <td>0</td>\n      <td>0</td>\n      <td>23.0 kmpl</td>\n      <td>1396.0</td>\n      <td>90.00</td>\n      <td>22.4 kgm at 1750-2750rpm</td>\n      <td>5.0</td>\n    </tr>\n    <tr>\n      <th>4</th>\n      <td>Maruti Swift VXI BSIII</td>\n      <td>2007</td>\n      <td>130000</td>\n      <td>120000</td>\n      <td>1</td>\n      <td>0</td>\n      <td>0</td>\n      <td>0</td>\n      <td>16.1 kmpl</td>\n      <td>1298.0</td>\n      <td>88.20</td>\n      <td>11.5@ 4,500(kgm@ rpm)</td>\n      <td>5.0</td>\n    </tr>\n    <tr>\n      <th>...</th>\n      <td>...</td>\n      <td>...</td>\n      <td>...</td>\n      <td>...</td>\n      <td>...</td>\n      <td>...</td>\n      <td>...</td>\n      <td>...</td>\n      <td>...</td>\n      <td>...</td>\n      <td>...</td>\n      <td>...</td>\n      <td>...</td>\n    </tr>\n    <tr>\n      <th>8123</th>\n      <td>Hyundai i20 Magna</td>\n      <td>2013</td>\n      <td>320000</td>\n      <td>110000</td>\n      <td>1</td>\n      <td>0</td>\n      <td>0</td>\n      <td>0</td>\n      <td>18.5 kmpl</td>\n      <td>1197.0</td>\n      <td>82.85</td>\n      <td>113.7Nm@ 4000rpm</td>\n      <td>5.0</td>\n    </tr>\n    <tr>\n      <th>8124</th>\n      <td>Hyundai Verna CRDi SX</td>\n      <td>2007</td>\n      <td>135000</td>\n      <td>119000</td>\n      <td>0</td>\n      <td>0</td>\n      <td>0</td>\n      <td>3</td>\n      <td>16.8 kmpl</td>\n      <td>1493.0</td>\n      <td>110.00</td>\n      <td>24@ 1,900-2,750(kgm@ rpm)</td>\n      <td>5.0</td>\n    </tr>\n    <tr>\n      <th>8125</th>\n      <td>Maruti Swift Dzire ZDi</td>\n      <td>2009</td>\n      <td>382000</td>\n      <td>120000</td>\n      <td>0</td>\n      <td>0</td>\n      <td>0</td>\n      <td>0</td>\n      <td>19.3 kmpl</td>\n      <td>1248.0</td>\n      <td>73.90</td>\n      <td>190Nm@ 2000rpm</td>\n      <td>5.0</td>\n    </tr>\n    <tr>\n      <th>8126</th>\n      <td>Tata Indigo CR4</td>\n      <td>2013</td>\n      <td>290000</td>\n      <td>25000</td>\n      <td>0</td>\n      <td>0</td>\n      <td>0</td>\n      <td>0</td>\n      <td>23.57 kmpl</td>\n      <td>1396.0</td>\n      <td>70.00</td>\n      <td>140Nm@ 1800-3000rpm</td>\n      <td>5.0</td>\n    </tr>\n    <tr>\n      <th>8127</th>\n      <td>Tata Indigo CR4</td>\n      <td>2013</td>\n      <td>290000</td>\n      <td>25000</td>\n      <td>0</td>\n      <td>0</td>\n      <td>0</td>\n      <td>0</td>\n      <td>23.57 kmpl</td>\n      <td>1396.0</td>\n      <td>70.00</td>\n      <td>140Nm@ 1800-3000rpm</td>\n      <td>5.0</td>\n    </tr>\n  </tbody>\n</table>\n<p>7906 rows × 13 columns</p>\n</div>"
     },
     "execution_count": 52,
     "metadata": {},
     "output_type": "execute_result"
    }
   ],
   "source": [
    "to_float_parse = lambda x: float(x.split(' ')[0])\n",
    "car_details['max_power'] = car_details['max_power'].apply(to_float_parse)\n",
    "car_details['engine'] = car_details['engine'].apply(to_float_parse)\n",
    "\n",
    "car_details"
   ],
   "metadata": {
    "collapsed": false,
    "pycharm": {
     "name": "#%%\n"
    }
   }
  },
  {
   "cell_type": "code",
   "execution_count": 53,
   "outputs": [
    {
     "data": {
      "text/plain": "                              name  year  selling_price  km_driven  fuel  \\\n0           Maruti Swift Dzire VDI  2014         450000     145500     0   \n1     Skoda Rapid 1.5 TDI Ambition  2014         370000     120000     0   \n2         Honda City 2017-2020 EXi  2006         158000     140000     1   \n3        Hyundai i20 Sportz Diesel  2010         225000     127000     0   \n4           Maruti Swift VXI BSIII  2007         130000     120000     1   \n...                            ...   ...            ...        ...   ...   \n8123             Hyundai i20 Magna  2013         320000     110000     1   \n8124         Hyundai Verna CRDi SX  2007         135000     119000     0   \n8125        Maruti Swift Dzire ZDi  2009         382000     120000     0   \n8126               Tata Indigo CR4  2013         290000      25000     0   \n8127               Tata Indigo CR4  2013         290000      25000     0   \n\n      seller_type  transmission  owner  mileage  engine  max_power  \\\n0               0             0      0    23.40  1248.0      74.00   \n1               0             0      1    21.14  1498.0     103.52   \n2               0             0      2    17.70  1497.0      78.00   \n3               0             0      0    23.00  1396.0      90.00   \n4               0             0      0    16.10  1298.0      88.20   \n...           ...           ...    ...      ...     ...        ...   \n8123            0             0      0    18.50  1197.0      82.85   \n8124            0             0      3    16.80  1493.0     110.00   \n8125            0             0      0    19.30  1248.0      73.90   \n8126            0             0      0    23.57  1396.0      70.00   \n8127            0             0      0    23.57  1396.0      70.00   \n\n                         torque  seats  \n0                190Nm@ 2000rpm    5.0  \n1           250Nm@ 1500-2500rpm    5.0  \n2         12.7@ 2,700(kgm@ rpm)    5.0  \n3      22.4 kgm at 1750-2750rpm    5.0  \n4         11.5@ 4,500(kgm@ rpm)    5.0  \n...                         ...    ...  \n8123           113.7Nm@ 4000rpm    5.0  \n8124  24@ 1,900-2,750(kgm@ rpm)    5.0  \n8125             190Nm@ 2000rpm    5.0  \n8126        140Nm@ 1800-3000rpm    5.0  \n8127        140Nm@ 1800-3000rpm    5.0  \n\n[7906 rows x 13 columns]",
      "text/html": "<div>\n<style scoped>\n    .dataframe tbody tr th:only-of-type {\n        vertical-align: middle;\n    }\n\n    .dataframe tbody tr th {\n        vertical-align: top;\n    }\n\n    .dataframe thead th {\n        text-align: right;\n    }\n</style>\n<table border=\"1\" class=\"dataframe\">\n  <thead>\n    <tr style=\"text-align: right;\">\n      <th></th>\n      <th>name</th>\n      <th>year</th>\n      <th>selling_price</th>\n      <th>km_driven</th>\n      <th>fuel</th>\n      <th>seller_type</th>\n      <th>transmission</th>\n      <th>owner</th>\n      <th>mileage</th>\n      <th>engine</th>\n      <th>max_power</th>\n      <th>torque</th>\n      <th>seats</th>\n    </tr>\n  </thead>\n  <tbody>\n    <tr>\n      <th>0</th>\n      <td>Maruti Swift Dzire VDI</td>\n      <td>2014</td>\n      <td>450000</td>\n      <td>145500</td>\n      <td>0</td>\n      <td>0</td>\n      <td>0</td>\n      <td>0</td>\n      <td>23.40</td>\n      <td>1248.0</td>\n      <td>74.00</td>\n      <td>190Nm@ 2000rpm</td>\n      <td>5.0</td>\n    </tr>\n    <tr>\n      <th>1</th>\n      <td>Skoda Rapid 1.5 TDI Ambition</td>\n      <td>2014</td>\n      <td>370000</td>\n      <td>120000</td>\n      <td>0</td>\n      <td>0</td>\n      <td>0</td>\n      <td>1</td>\n      <td>21.14</td>\n      <td>1498.0</td>\n      <td>103.52</td>\n      <td>250Nm@ 1500-2500rpm</td>\n      <td>5.0</td>\n    </tr>\n    <tr>\n      <th>2</th>\n      <td>Honda City 2017-2020 EXi</td>\n      <td>2006</td>\n      <td>158000</td>\n      <td>140000</td>\n      <td>1</td>\n      <td>0</td>\n      <td>0</td>\n      <td>2</td>\n      <td>17.70</td>\n      <td>1497.0</td>\n      <td>78.00</td>\n      <td>12.7@ 2,700(kgm@ rpm)</td>\n      <td>5.0</td>\n    </tr>\n    <tr>\n      <th>3</th>\n      <td>Hyundai i20 Sportz Diesel</td>\n      <td>2010</td>\n      <td>225000</td>\n      <td>127000</td>\n      <td>0</td>\n      <td>0</td>\n      <td>0</td>\n      <td>0</td>\n      <td>23.00</td>\n      <td>1396.0</td>\n      <td>90.00</td>\n      <td>22.4 kgm at 1750-2750rpm</td>\n      <td>5.0</td>\n    </tr>\n    <tr>\n      <th>4</th>\n      <td>Maruti Swift VXI BSIII</td>\n      <td>2007</td>\n      <td>130000</td>\n      <td>120000</td>\n      <td>1</td>\n      <td>0</td>\n      <td>0</td>\n      <td>0</td>\n      <td>16.10</td>\n      <td>1298.0</td>\n      <td>88.20</td>\n      <td>11.5@ 4,500(kgm@ rpm)</td>\n      <td>5.0</td>\n    </tr>\n    <tr>\n      <th>...</th>\n      <td>...</td>\n      <td>...</td>\n      <td>...</td>\n      <td>...</td>\n      <td>...</td>\n      <td>...</td>\n      <td>...</td>\n      <td>...</td>\n      <td>...</td>\n      <td>...</td>\n      <td>...</td>\n      <td>...</td>\n      <td>...</td>\n    </tr>\n    <tr>\n      <th>8123</th>\n      <td>Hyundai i20 Magna</td>\n      <td>2013</td>\n      <td>320000</td>\n      <td>110000</td>\n      <td>1</td>\n      <td>0</td>\n      <td>0</td>\n      <td>0</td>\n      <td>18.50</td>\n      <td>1197.0</td>\n      <td>82.85</td>\n      <td>113.7Nm@ 4000rpm</td>\n      <td>5.0</td>\n    </tr>\n    <tr>\n      <th>8124</th>\n      <td>Hyundai Verna CRDi SX</td>\n      <td>2007</td>\n      <td>135000</td>\n      <td>119000</td>\n      <td>0</td>\n      <td>0</td>\n      <td>0</td>\n      <td>3</td>\n      <td>16.80</td>\n      <td>1493.0</td>\n      <td>110.00</td>\n      <td>24@ 1,900-2,750(kgm@ rpm)</td>\n      <td>5.0</td>\n    </tr>\n    <tr>\n      <th>8125</th>\n      <td>Maruti Swift Dzire ZDi</td>\n      <td>2009</td>\n      <td>382000</td>\n      <td>120000</td>\n      <td>0</td>\n      <td>0</td>\n      <td>0</td>\n      <td>0</td>\n      <td>19.30</td>\n      <td>1248.0</td>\n      <td>73.90</td>\n      <td>190Nm@ 2000rpm</td>\n      <td>5.0</td>\n    </tr>\n    <tr>\n      <th>8126</th>\n      <td>Tata Indigo CR4</td>\n      <td>2013</td>\n      <td>290000</td>\n      <td>25000</td>\n      <td>0</td>\n      <td>0</td>\n      <td>0</td>\n      <td>0</td>\n      <td>23.57</td>\n      <td>1396.0</td>\n      <td>70.00</td>\n      <td>140Nm@ 1800-3000rpm</td>\n      <td>5.0</td>\n    </tr>\n    <tr>\n      <th>8127</th>\n      <td>Tata Indigo CR4</td>\n      <td>2013</td>\n      <td>290000</td>\n      <td>25000</td>\n      <td>0</td>\n      <td>0</td>\n      <td>0</td>\n      <td>0</td>\n      <td>23.57</td>\n      <td>1396.0</td>\n      <td>70.00</td>\n      <td>140Nm@ 1800-3000rpm</td>\n      <td>5.0</td>\n    </tr>\n  </tbody>\n</table>\n<p>7906 rows × 13 columns</p>\n</div>"
     },
     "execution_count": 53,
     "metadata": {},
     "output_type": "execute_result"
    }
   ],
   "source": [
    "to_mileage= []\n",
    "for i in car_details.mileage:\n",
    "    if str(i).endswith('km/kg'):\n",
    "        i = i.split(' ')[0]\n",
    "        i = float(i) * 1.40\n",
    "        to_mileage.append(float(i))\n",
    "    elif str(i).endswith('kmpl'):\n",
    "        i = i.split(' ')[0]\n",
    "        to_mileage.append(float(i))\n",
    "\n",
    "car_details['mileage']=to_mileage\n",
    "car_details"
   ],
   "metadata": {
    "collapsed": false,
    "pycharm": {
     "name": "#%%\n"
    }
   }
  },
  {
   "cell_type": "code",
   "execution_count": 54,
   "outputs": [],
   "source": [
    "car_details[['torque', 'torque_remainder']] = car_details['torque'].str.split('@', 1, expand=True)\n",
    "car_details.drop(['torque_remainder'],axis=1,inplace=True)\n",
    "car_details['torque']= car_details['torque'].str.extract('(^\\d*)')\n",
    "car_details['torque']= car_details['torque'].fillna(150)\n",
    "car_details['torque']=car_details['torque'].astype('int')\n",
    "car_details['torque'] = car_details['torque'].apply(lambda x: 9.8*x if x <= 50 else x)\n"
   ],
   "metadata": {
    "collapsed": false,
    "pycharm": {
     "name": "#%%\n"
    }
   }
  },
  {
   "cell_type": "code",
   "execution_count": 55,
   "outputs": [
    {
     "data": {
      "text/plain": "                              name  year  selling_price  km_driven  fuel  \\\n0           Maruti Swift Dzire VDI  2014         450000     145500     0   \n1     Skoda Rapid 1.5 TDI Ambition  2014         370000     120000     0   \n2         Honda City 2017-2020 EXi  2006         158000     140000     1   \n3        Hyundai i20 Sportz Diesel  2010         225000     127000     0   \n4           Maruti Swift VXI BSIII  2007         130000     120000     1   \n...                            ...   ...            ...        ...   ...   \n8123             Hyundai i20 Magna  2013         320000     110000     1   \n8124         Hyundai Verna CRDi SX  2007         135000     119000     0   \n8125        Maruti Swift Dzire ZDi  2009         382000     120000     0   \n8126               Tata Indigo CR4  2013         290000      25000     0   \n8127               Tata Indigo CR4  2013         290000      25000     0   \n\n      seller_type  transmission  owner  mileage  engine  max_power  torque  \\\n0               0             0      0    23.40  1248.0      74.00   190.0   \n1               0             0      1    21.14  1498.0     103.52   250.0   \n2               0             0      2    17.70  1497.0      78.00   117.6   \n3               0             0      0    23.00  1396.0      90.00   215.6   \n4               0             0      0    16.10  1298.0      88.20   107.8   \n...           ...           ...    ...      ...     ...        ...     ...   \n8123            0             0      0    18.50  1197.0      82.85   113.0   \n8124            0             0      3    16.80  1493.0     110.00   235.2   \n8125            0             0      0    19.30  1248.0      73.90   190.0   \n8126            0             0      0    23.57  1396.0      70.00   140.0   \n8127            0             0      0    23.57  1396.0      70.00   140.0   \n\n      seats  \n0       5.0  \n1       5.0  \n2       5.0  \n3       5.0  \n4       5.0  \n...     ...  \n8123    5.0  \n8124    5.0  \n8125    5.0  \n8126    5.0  \n8127    5.0  \n\n[7906 rows x 13 columns]",
      "text/html": "<div>\n<style scoped>\n    .dataframe tbody tr th:only-of-type {\n        vertical-align: middle;\n    }\n\n    .dataframe tbody tr th {\n        vertical-align: top;\n    }\n\n    .dataframe thead th {\n        text-align: right;\n    }\n</style>\n<table border=\"1\" class=\"dataframe\">\n  <thead>\n    <tr style=\"text-align: right;\">\n      <th></th>\n      <th>name</th>\n      <th>year</th>\n      <th>selling_price</th>\n      <th>km_driven</th>\n      <th>fuel</th>\n      <th>seller_type</th>\n      <th>transmission</th>\n      <th>owner</th>\n      <th>mileage</th>\n      <th>engine</th>\n      <th>max_power</th>\n      <th>torque</th>\n      <th>seats</th>\n    </tr>\n  </thead>\n  <tbody>\n    <tr>\n      <th>0</th>\n      <td>Maruti Swift Dzire VDI</td>\n      <td>2014</td>\n      <td>450000</td>\n      <td>145500</td>\n      <td>0</td>\n      <td>0</td>\n      <td>0</td>\n      <td>0</td>\n      <td>23.40</td>\n      <td>1248.0</td>\n      <td>74.00</td>\n      <td>190.0</td>\n      <td>5.0</td>\n    </tr>\n    <tr>\n      <th>1</th>\n      <td>Skoda Rapid 1.5 TDI Ambition</td>\n      <td>2014</td>\n      <td>370000</td>\n      <td>120000</td>\n      <td>0</td>\n      <td>0</td>\n      <td>0</td>\n      <td>1</td>\n      <td>21.14</td>\n      <td>1498.0</td>\n      <td>103.52</td>\n      <td>250.0</td>\n      <td>5.0</td>\n    </tr>\n    <tr>\n      <th>2</th>\n      <td>Honda City 2017-2020 EXi</td>\n      <td>2006</td>\n      <td>158000</td>\n      <td>140000</td>\n      <td>1</td>\n      <td>0</td>\n      <td>0</td>\n      <td>2</td>\n      <td>17.70</td>\n      <td>1497.0</td>\n      <td>78.00</td>\n      <td>117.6</td>\n      <td>5.0</td>\n    </tr>\n    <tr>\n      <th>3</th>\n      <td>Hyundai i20 Sportz Diesel</td>\n      <td>2010</td>\n      <td>225000</td>\n      <td>127000</td>\n      <td>0</td>\n      <td>0</td>\n      <td>0</td>\n      <td>0</td>\n      <td>23.00</td>\n      <td>1396.0</td>\n      <td>90.00</td>\n      <td>215.6</td>\n      <td>5.0</td>\n    </tr>\n    <tr>\n      <th>4</th>\n      <td>Maruti Swift VXI BSIII</td>\n      <td>2007</td>\n      <td>130000</td>\n      <td>120000</td>\n      <td>1</td>\n      <td>0</td>\n      <td>0</td>\n      <td>0</td>\n      <td>16.10</td>\n      <td>1298.0</td>\n      <td>88.20</td>\n      <td>107.8</td>\n      <td>5.0</td>\n    </tr>\n    <tr>\n      <th>...</th>\n      <td>...</td>\n      <td>...</td>\n      <td>...</td>\n      <td>...</td>\n      <td>...</td>\n      <td>...</td>\n      <td>...</td>\n      <td>...</td>\n      <td>...</td>\n      <td>...</td>\n      <td>...</td>\n      <td>...</td>\n      <td>...</td>\n    </tr>\n    <tr>\n      <th>8123</th>\n      <td>Hyundai i20 Magna</td>\n      <td>2013</td>\n      <td>320000</td>\n      <td>110000</td>\n      <td>1</td>\n      <td>0</td>\n      <td>0</td>\n      <td>0</td>\n      <td>18.50</td>\n      <td>1197.0</td>\n      <td>82.85</td>\n      <td>113.0</td>\n      <td>5.0</td>\n    </tr>\n    <tr>\n      <th>8124</th>\n      <td>Hyundai Verna CRDi SX</td>\n      <td>2007</td>\n      <td>135000</td>\n      <td>119000</td>\n      <td>0</td>\n      <td>0</td>\n      <td>0</td>\n      <td>3</td>\n      <td>16.80</td>\n      <td>1493.0</td>\n      <td>110.00</td>\n      <td>235.2</td>\n      <td>5.0</td>\n    </tr>\n    <tr>\n      <th>8125</th>\n      <td>Maruti Swift Dzire ZDi</td>\n      <td>2009</td>\n      <td>382000</td>\n      <td>120000</td>\n      <td>0</td>\n      <td>0</td>\n      <td>0</td>\n      <td>0</td>\n      <td>19.30</td>\n      <td>1248.0</td>\n      <td>73.90</td>\n      <td>190.0</td>\n      <td>5.0</td>\n    </tr>\n    <tr>\n      <th>8126</th>\n      <td>Tata Indigo CR4</td>\n      <td>2013</td>\n      <td>290000</td>\n      <td>25000</td>\n      <td>0</td>\n      <td>0</td>\n      <td>0</td>\n      <td>0</td>\n      <td>23.57</td>\n      <td>1396.0</td>\n      <td>70.00</td>\n      <td>140.0</td>\n      <td>5.0</td>\n    </tr>\n    <tr>\n      <th>8127</th>\n      <td>Tata Indigo CR4</td>\n      <td>2013</td>\n      <td>290000</td>\n      <td>25000</td>\n      <td>0</td>\n      <td>0</td>\n      <td>0</td>\n      <td>0</td>\n      <td>23.57</td>\n      <td>1396.0</td>\n      <td>70.00</td>\n      <td>140.0</td>\n      <td>5.0</td>\n    </tr>\n  </tbody>\n</table>\n<p>7906 rows × 13 columns</p>\n</div>"
     },
     "execution_count": 55,
     "metadata": {},
     "output_type": "execute_result"
    }
   ],
   "source": [
    "car_details"
   ],
   "metadata": {
    "collapsed": false,
    "pycharm": {
     "name": "#%%\n"
    }
   }
  },
  {
   "cell_type": "code",
   "execution_count": null,
   "outputs": [
    {
     "data": {
      "text/plain": "<seaborn.axisgrid.PairGrid at 0x298f4d790>"
     },
     "execution_count": 56,
     "metadata": {},
     "output_type": "execute_result"
    }
   ],
   "source": [
    "sns.pairplot(car_details)"
   ],
   "metadata": {
    "collapsed": false,
    "pycharm": {
     "name": "#%%\n",
     "is_executing": true
    }
   }
  },
  {
   "cell_type": "markdown",
   "source": [
    "## 1.3 Разделение набора данных на тренировочный и тестовый\n",
    "\n",
    "Разделите набор данных на тренировочный и тестовый в соотношении 80%/20% при помощи функции train_test_split библиотеки sklearn.model_selection. При необходимости категориальные признаки в числовые (например, при помощи функции get_dummies библиотеки pandas)."
   ],
   "metadata": {
    "id": "Uf5huLhWDAAs",
    "pycharm": {
     "name": "#%% md\n"
    }
   }
  },
  {
   "cell_type": "code",
   "source": [
    "from sklearn.model_selection import train_test_split"
   ],
   "metadata": {
    "id": "m4TFkOgJOKVx",
    "pycharm": {
     "name": "#%%\n",
     "is_executing": true
    }
   },
   "execution_count": null,
   "outputs": []
  },
  {
   "cell_type": "code",
   "execution_count": null,
   "outputs": [],
   "source": [
    "car_details = car_details.drop(columns='name', axis=1)\n",
    "car_details = car_details.drop(columns='torque', axis=1)\n",
    "car_details = pd.get_dummies(car_details)\n",
    "X_car_details = car_details.drop(columns='selling_price')\n",
    "Y_car_details = car_details['selling_price']\n",
    "\n",
    "\n",
    "X_car_details_training, \\\n",
    "X_car_details_test, \\\n",
    "selling_price_training, \\\n",
    "selling_price_test = train_test_split(X_car_details,\n",
    "                                      Y_car_details, test_size=0.80, random_state=24)"
   ],
   "metadata": {
    "collapsed": false,
    "pycharm": {
     "name": "#%%\n",
     "is_executing": true
    }
   }
  },
  {
   "cell_type": "code",
   "execution_count": null,
   "outputs": [],
   "source": [
    "X_car_details_training"
   ],
   "metadata": {
    "collapsed": false,
    "pycharm": {
     "name": "#%%\n",
     "is_executing": true
    }
   }
  },
  {
   "cell_type": "code",
   "execution_count": null,
   "outputs": [],
   "source": [
    "X_car_details_test"
   ],
   "metadata": {
    "collapsed": false,
    "pycharm": {
     "name": "#%%\n",
     "is_executing": true
    }
   }
  },
  {
   "cell_type": "code",
   "execution_count": null,
   "outputs": [],
   "source": [
    "selling_price_training"
   ],
   "metadata": {
    "collapsed": false,
    "pycharm": {
     "name": "#%%\n",
     "is_executing": true
    }
   }
  },
  {
   "cell_type": "code",
   "execution_count": null,
   "outputs": [],
   "source": [
    "selling_price_test"
   ],
   "metadata": {
    "collapsed": false,
    "pycharm": {
     "name": "#%%\n",
     "is_executing": true
    }
   }
  },
  {
   "cell_type": "markdown",
   "source": [
    "## 1.4 OLS regression\n",
    "\n",
    "Обучить модель линейной регрессии методом наименьших квадратов (ordinary least squares linear regression), импортировав класс `LinearRegression` из библиотеки `sklearn.linear_model`. Оцените ошибку вашей модели при помощи метрики RMSE. Посмотрите, как влияет исключение из набора данных выбросов (экстремальных значений, например, больше 95 квантиля) на оценку ошибки.\n",
    "\n"
   ],
   "metadata": {
    "id": "47br_pClCv7K",
    "pycharm": {
     "name": "#%% md\n"
    }
   }
  },
  {
   "cell_type": "code",
   "source": [
    "from sklearn.linear_model import LinearRegression"
   ],
   "metadata": {
    "id": "4uxuHscFEaDD",
    "pycharm": {
     "name": "#%%\n",
     "is_executing": true
    }
   },
   "execution_count": null,
   "outputs": []
  },
  {
   "cell_type": "code",
   "execution_count": null,
   "outputs": [],
   "source": [
    "'selling_price'\n",
    "linearRegression = LinearRegression()\n",
    "linearRegression.fit(X_car_details_training, selling_price_training)\n",
    "predict = linearRegression.predict(X_car_details_test)"
   ],
   "metadata": {
    "collapsed": false,
    "pycharm": {
     "name": "#%%\n",
     "is_executing": true
    }
   }
  },
  {
   "cell_type": "code",
   "execution_count": null,
   "outputs": [],
   "source": [
    "# RMSE\n",
    "rmse = mean_squared_error(selling_price_test, predict, squared=False)\n",
    "print(f'RMSE = {rmse}')"
   ],
   "metadata": {
    "collapsed": false,
    "pycharm": {
     "name": "#%%\n",
     "is_executing": true
    }
   }
  },
  {
   "cell_type": "code",
   "execution_count": null,
   "outputs": [],
   "source": [
    "car_details_77 = car_details[car_details['selling_price'] <= np.quantile(Y_car_details, 0.77)]\n",
    "X_2 = car_details_77.drop(columns='selling_price')\n",
    "Y_2 = car_details_77['selling_price']"
   ],
   "metadata": {
    "collapsed": false,
    "pycharm": {
     "name": "#%%\n",
     "is_executing": true
    }
   }
  },
  {
   "cell_type": "code",
   "execution_count": null,
   "outputs": [],
   "source": [
    "X2_car_details_training, \\\n",
    "X2_car_details_test, \\\n",
    "selling_price_training2, \\\n",
    "selling_price_test2 = train_test_split(X_2,\n",
    "                                      Y_2, test_size=0.80, random_state=11)"
   ],
   "metadata": {
    "collapsed": false,
    "pycharm": {
     "name": "#%%\n",
     "is_executing": true
    }
   }
  },
  {
   "cell_type": "code",
   "execution_count": null,
   "outputs": [],
   "source": [
    "linearRegression = LinearRegression()\n",
    "linearRegression.fit(X2_car_details_training, selling_price_training2)\n",
    "predict = linearRegression.predict(X2_car_details_test)"
   ],
   "metadata": {
    "collapsed": false,
    "pycharm": {
     "name": "#%%\n",
     "is_executing": true
    }
   }
  },
  {
   "cell_type": "code",
   "execution_count": null,
   "outputs": [],
   "source": [
    "rmse = mean_squared_error(selling_price_test2, predict, squared=False)\n",
    "print(f'RMSE = {rmse}')"
   ],
   "metadata": {
    "collapsed": false,
    "pycharm": {
     "name": "#%%\n",
     "is_executing": true
    }
   }
  },
  {
   "cell_type": "markdown",
   "source": [
    "## 1.5 Ridge regression\n",
    "\n",
    "Обучить модель линейной регрессии с $L_2$-регуляризацией (Гребневая регрессия, Ridge regression), импортировав класс `Ridge` из библиотеки `sklearn.linear_model`. Оцените ошибку вашей модели при помощи метрики RMSE\n"
   ],
   "metadata": {
    "id": "XjP6TDE_C9BQ",
    "pycharm": {
     "name": "#%% md\n"
    }
   }
  },
  {
   "cell_type": "code",
   "source": [
    "from sklearn.linear_model import Ridge"
   ],
   "metadata": {
    "id": "J-jt6LkLEapV",
    "pycharm": {
     "name": "#%%\n",
     "is_executing": true
    }
   },
   "execution_count": null,
   "outputs": []
  },
  {
   "cell_type": "code",
   "execution_count": null,
   "outputs": [],
   "source": [
    "ridgeRegression = Ridge()"
   ],
   "metadata": {
    "collapsed": false,
    "pycharm": {
     "name": "#%%\n",
     "is_executing": true
    }
   }
  },
  {
   "cell_type": "code",
   "execution_count": null,
   "outputs": [],
   "source": [
    "ridgeRegression.fit(X2_car_details_training, selling_price_training2)\n",
    "predict = ridgeRegression.predict(X2_car_details_test)\n"
   ],
   "metadata": {
    "collapsed": false,
    "pycharm": {
     "name": "#%%\n",
     "is_executing": true
    }
   }
  },
  {
   "cell_type": "code",
   "execution_count": null,
   "outputs": [],
   "source": [
    "print(f'RMSE = {mean_squared_error(selling_price_test2, predict, squared=False)}')"
   ],
   "metadata": {
    "collapsed": false,
    "pycharm": {
     "name": "#%%\n",
     "is_executing": true
    }
   }
  },
  {
   "cell_type": "markdown",
   "source": [
    "## 1.6 Lasso regression\n",
    "\n",
    "Обучить модель линейной регрессии с $L_1$-регуляризацией (Lasso regression), импортировав класс `Lasso` из библиотеки `sklearn.linear_model`. Оцените ошибку вашей модели при помощи метрики RMSE"
   ],
   "metadata": {
    "id": "ZznS1COIC9D1",
    "pycharm": {
     "name": "#%% md\n"
    }
   }
  },
  {
   "cell_type": "code",
   "source": [
    "from sklearn.linear_model import Lasso"
   ],
   "metadata": {
    "id": "vjbsj9YDE_z6",
    "pycharm": {
     "name": "#%%\n",
     "is_executing": true
    }
   },
   "execution_count": null,
   "outputs": []
  },
  {
   "cell_type": "code",
   "execution_count": null,
   "outputs": [],
   "source": [
    "lassoRegression = Lasso()"
   ],
   "metadata": {
    "collapsed": false,
    "pycharm": {
     "name": "#%%\n",
     "is_executing": true
    }
   }
  },
  {
   "cell_type": "code",
   "execution_count": null,
   "outputs": [],
   "source": [
    "lassoRegression.fit(X2_car_details_training, selling_price_training2)\n",
    "predict = lassoRegression.predict(X2_car_details_test)"
   ],
   "metadata": {
    "collapsed": false,
    "pycharm": {
     "name": "#%%\n",
     "is_executing": true
    }
   }
  },
  {
   "cell_type": "code",
   "execution_count": null,
   "outputs": [],
   "source": [
    "rmse = mean_squared_error(selling_price_test2, predict, squared=False)\n",
    "print(f'RMSE = {rmse}')"
   ],
   "metadata": {
    "collapsed": false,
    "pycharm": {
     "name": "#%%\n",
     "is_executing": true
    }
   }
  },
  {
   "cell_type": "markdown",
   "source": [
    "## 1.7 Оптимизация Ridge regression\n",
    "\n",
    "Сделайте перебор в цикле гиперпараметра `alpha` для модели `Ridge` от 0 до 1 с шагом 0.05. Постройте график ошибки RMSE на тестовых данных в зависимости от гиперпараметра `alpha`"
   ],
   "metadata": {
    "id": "cKzqNRmuE8Q8",
    "pycharm": {
     "name": "#%% md\n"
    }
   }
  },
  {
   "cell_type": "code",
   "source": [
    "root_mean_square_errors = []\n",
    "for alpha in np.arange(0, 1, 0.05):\n",
    "    ridgeRegression = Ridge(alpha=alpha)\n",
    "    ridgeRegression.fit(X2_car_details_training, selling_price_training2)\n",
    "    predict = ridgeRegression.predict(X2_car_details_test)\n",
    "\n",
    "    root_mean_square_errors.append(mean_squared_error(selling_price_test2, predict, squared=False))\n",
    "\n",
    "root_mean_square_errors"
   ],
   "metadata": {
    "id": "HN-dRkhqFBoX",
    "pycharm": {
     "name": "#%%\n",
     "is_executing": true
    }
   },
   "execution_count": null,
   "outputs": []
  },
  {
   "cell_type": "code",
   "execution_count": null,
   "outputs": [],
   "source": [
    "plt.plot(np.arange(0, 1, 0.05), root_mean_square_errors)\n",
    "plt.xlabel('alpha')\n",
    "plt.ylabel('rmse')\n",
    "plt.show()"
   ],
   "metadata": {
    "collapsed": false,
    "pycharm": {
     "name": "#%%\n",
     "is_executing": true
    }
   }
  },
  {
   "cell_type": "markdown",
   "source": [
    "## 1.8 Вывод\n",
    "\n",
    "Сравните качество (величину ошибки) для моделей из пп. 1.4-1.7. Какая модель показала наилучший результат?"
   ],
   "metadata": {
    "id": "KPku-PN3Edbc",
    "pycharm": {
     "name": "#%% md\n"
    }
   }
  },
  {
   "cell_type": "markdown",
   "source": [
    "Ваш ответ: Ridge regression"
   ],
   "metadata": {
    "id": "sMdiNzk-MFL8",
    "pycharm": {
     "name": "#%% md\n"
    }
   }
  },
  {
   "cell_type": "markdown",
   "source": [
    "# 2. Задача классификации (9 баллов)\n",
    "\n",
    "Постройте модель машинного обучения, решающую задачу классификации на вашем наборе данных. Задание считается выполненным, если соответствующая оценка качества на тестовой выборке >= baseline."
   ],
   "metadata": {
    "id": "6LnSFtGFCCUU",
    "pycharm": {
     "name": "#%% md\n"
    }
   }
  },
  {
   "cell_type": "markdown",
   "source": [
    "## 2.1 Загрузка данных\n",
    "\n",
    "Загрузите данные в датафрейм при помощи функции `read_csv` блиблиотеки `pandas`"
   ],
   "metadata": {
    "id": "YYsBIcEgV_K5",
    "pycharm": {
     "name": "#%% md\n"
    }
   }
  },
  {
   "cell_type": "code",
   "source": [
    "data = pd.read_csv('diabetes.csv')\n",
    "data\n",
    "\n",
    "data = data.dropna()\n",
    "for i in list(data.columns.values):\n",
    "    if i == 'Outcome':\n",
    "        break\n",
    "    data = data[data[i] != 0]\n",
    "data"
   ],
   "metadata": {
    "id": "-rsk-UpEMndr",
    "pycharm": {
     "name": "#%%\n",
     "is_executing": true
    }
   },
   "execution_count": null,
   "outputs": []
  },
  {
   "cell_type": "markdown",
   "source": [
    "## 2.2 Разделение набора данных на тренировочный и тестовый\n",
    "\n",
    "Разделите набор данных на тренировочный и тестовый при помощи функции `train_test_split` библиотеки sklearn.model_selection.\n"
   ],
   "metadata": {
    "id": "zzQUGxgEV_K6",
    "pycharm": {
     "name": "#%% md\n"
    }
   }
  },
  {
   "cell_type": "code",
   "source": [
    "X = data.drop(columns='Outcome', axis=1)\n",
    "Y = data['Outcome']"
   ],
   "metadata": {
    "id": "bqm2X5sQMB7f",
    "pycharm": {
     "name": "#%%\n",
     "is_executing": true
    }
   },
   "execution_count": null,
   "outputs": []
  },
  {
   "cell_type": "code",
   "execution_count": null,
   "outputs": [],
   "source": [
    "X_train, X_test, Y_train, Y_test = train_test_split(X,Y, train_size=0.80, random_state=79)"
   ],
   "metadata": {
    "collapsed": false,
    "pycharm": {
     "name": "#%%\n",
     "is_executing": true
    }
   }
  },
  {
   "cell_type": "markdown",
   "source": [
    "## 2.3 Предобработка данных\n",
    "\n",
    "Проведите необходимую предобработку (перенормировку, выделение главных компонент и т.д.) данных. Приведите данные к такому виду, чтобы их можно было использовать для обучения моделей.\n"
   ],
   "metadata": {
    "id": "aWCEpEfqN3sh",
    "pycharm": {
     "name": "#%% md\n"
    }
   }
  },
  {
   "cell_type": "code",
   "source": [
    "from sklearn.preprocessing import MinMaxScaler\n",
    "from sklearn.decomposition import PCA"
   ],
   "metadata": {
    "id": "Gt9I4frj77rI",
    "pycharm": {
     "name": "#%%\n",
     "is_executing": true
    }
   },
   "execution_count": null,
   "outputs": []
  },
  {
   "cell_type": "code",
   "execution_count": null,
   "outputs": [],
   "source": [
    "normalizer = MinMaxScaler()"
   ],
   "metadata": {
    "collapsed": false,
    "pycharm": {
     "name": "#%%\n",
     "is_executing": true
    }
   }
  },
  {
   "cell_type": "code",
   "execution_count": null,
   "outputs": [],
   "source": [
    "\n",
    "p_data = normalizer.fit_transform(X_train)\n",
    "p_data_test = normalizer.transform(X_test)"
   ],
   "metadata": {
    "collapsed": false,
    "pycharm": {
     "name": "#%%\n",
     "is_executing": true
    }
   }
  },
  {
   "cell_type": "code",
   "execution_count": null,
   "outputs": [],
   "source": [
    "pca = PCA(n_components=0.77)"
   ],
   "metadata": {
    "collapsed": false,
    "pycharm": {
     "name": "#%%\n",
     "is_executing": true
    }
   }
  },
  {
   "cell_type": "code",
   "execution_count": null,
   "outputs": [],
   "source": [
    "pca_train = pca.fit_transform(p_data)\n",
    "pca_test = pca.transform(p_data_test)"
   ],
   "metadata": {
    "collapsed": false,
    "pycharm": {
     "name": "#%%\n",
     "is_executing": true
    }
   }
  },
  {
   "cell_type": "markdown",
   "source": [
    "## 2.4 Логистическая регрессия\n",
    "Обучите модель логистической регрессии, используя стандартную реализацию sklearn.linear_model.LogisticRegression. Оцените метрики качества полученной модели при помощи sklearn.metrics.classification_report и sklearn.metrics.f1_score."
   ],
   "metadata": {
    "id": "6ZY0qcwAWCRl",
    "pycharm": {
     "name": "#%% md\n"
    }
   }
  },
  {
   "cell_type": "code",
   "source": [
    "from sklearn.linear_model import LogisticRegression\n",
    "from sklearn.metrics import classification_report\n",
    "from sklearn.metrics import f1_score"
   ],
   "metadata": {
    "id": "1ZuWI2yFUENe",
    "pycharm": {
     "name": "#%%\n",
     "is_executing": true
    }
   },
   "execution_count": null,
   "outputs": []
  },
  {
   "cell_type": "code",
   "execution_count": null,
   "outputs": [],
   "source": [
    "log_regression = LogisticRegression().fit(pca_train, Y_train)\n",
    "predict = log_regression.predict(pca_test)\n"
   ],
   "metadata": {
    "collapsed": false,
    "pycharm": {
     "name": "#%%\n",
     "is_executing": true
    }
   }
  },
  {
   "cell_type": "code",
   "execution_count": null,
   "outputs": [],
   "source": [
    "print(classification_report(Y_test, predict))"
   ],
   "metadata": {
    "collapsed": false,
    "pycharm": {
     "name": "#%%\n",
     "is_executing": true
    }
   }
  },
  {
   "cell_type": "code",
   "execution_count": null,
   "outputs": [],
   "source": [
    "score = f1_score(Y_test, predict, average='macro')\n",
    "print(f' Оценка метрики качества полученной модели : {score}')"
   ],
   "metadata": {
    "collapsed": false,
    "pycharm": {
     "name": "#%%\n",
     "is_executing": true
    }
   }
  },
  {
   "cell_type": "markdown",
   "source": [
    "## 2.5 Подбор гиперпараметра регуляризации\n",
    "\n",
    "При помощи sklearn.model_selection.GridSearchCV переберите оптимальные параметры C в диапазоне 0.01 до 1 с шагом 0.1."
   ],
   "metadata": {
    "id": "ZguvQfjQbB7d",
    "pycharm": {
     "name": "#%% md\n"
    }
   }
  },
  {
   "cell_type": "code",
   "source": [
    "from sklearn.model_selection import GridSearchCV"
   ],
   "metadata": {
    "id": "u7hufb2lWHiZ",
    "pycharm": {
     "name": "#%%\n",
     "is_executing": true
    }
   },
   "execution_count": null,
   "outputs": []
  },
  {
   "cell_type": "code",
   "execution_count": null,
   "outputs": [],
   "source": [
    "diapazone = {'C': np.arange(0.01, 1.01, 0.1)}\n",
    "l_reg = LogisticRegression()\n",
    "gridSearchCV = GridSearchCV(l_reg, diapazone, scoring='f1_micro').fit(pca_train, Y_train)\n",
    "\n",
    "print(' | BEST PARAMS: ', gridSearchCV.best_params_['C'], ' | BEST RESULT: ', gridSearchCV.best_score_, ' |')"
   ],
   "metadata": {
    "collapsed": false,
    "pycharm": {
     "name": "#%%\n",
     "is_executing": true
    }
   }
  },
  {
   "cell_type": "markdown",
   "source": [
    "## 2.6 Выводы\n",
    "\n",
    "Сравните качество (величину ошибки) для моделей из пп. 2.4-2.5. Какая модель показала наилучший результат?"
   ],
   "metadata": {
    "id": "2DtdwkYVWYiH",
    "pycharm": {
     "name": "#%% md\n"
    }
   }
  },
  {
   "cell_type": "code",
   "execution_count": null,
   "outputs": [],
   "source": [
    "print(classification_report(Y_test, predict))\n",
    "print(f' Оценка метрики качества полученной модели : {score}')"
   ],
   "metadata": {
    "collapsed": false,
    "pycharm": {
     "name": "#%%\n",
     "is_executing": true
    }
   }
  },
  {
   "cell_type": "code",
   "execution_count": null,
   "outputs": [],
   "source": [
    "predict = gridSearchCV.predict(pca_test)\n",
    "score = f1_score(Y_test, predict, average='macro')\n",
    "print(classification_report(Y_test, predict))\n",
    "print(f' Оценка метрики качества полученной модели : {score}')"
   ],
   "metadata": {
    "collapsed": false,
    "pycharm": {
     "name": "#%%\n",
     "is_executing": true
    }
   }
  },
  {
   "cell_type": "markdown",
   "source": [
    "Ваш ответ: Качество модели из пп 2.5 выше чем в пп 2.4."
   ],
   "metadata": {
    "id": "H6gLeRADWdF9",
    "pycharm": {
     "name": "#%% md\n"
    }
   }
  },
  {
   "cell_type": "markdown",
   "source": [
    "# 3. Самописная линейная регрессиия (3 балла)\n",
    "\n",
    "Релизовать алгоритм построения модели линейной регрессии методом стохастического градиентного спуска (stochastic gradient descent, SGD) при помощи библиотек numpy, pytorch или tensorflow."
   ],
   "metadata": {
    "id": "nJkkqKFODKJd",
    "pycharm": {
     "name": "#%% md\n"
    }
   }
  },
  {
   "cell_type": "code",
   "source": [
    "class SGDLinearRegression:\n",
    "    def __init__(self, epsilon = 0.001):\n",
    "        self.w = None\n",
    "        self.bias = None\n",
    "        self.epsilon = epsilon\n",
    "        pass\n",
    "\n",
    "    def fit(self, X, y, iterations=500):\n",
    "        # Ваш код здесь\n",
    "        pass\n",
    "    \n",
    "    def predict(self, X):\n",
    "        # Ваш код здесь\n",
    "        pass\n"
   ],
   "metadata": {
    "id": "GmXdvDfMDV2n",
    "pycharm": {
     "name": "#%%\n",
     "is_executing": true
    }
   },
   "execution_count": null,
   "outputs": []
  },
  {
   "cell_type": "markdown",
   "source": [
    "3.2 Обучите самописную модель. Воспользуйтесь sklearn.model_selection.GridSearchCV для подбора гипермапарметра (шага обновления градиента) epsilon среди `numpy.geomspace(0.0001, 1, num=13)`. Постройте график функции ошибки для epsilon `[0.0001, 0.001, 0.01, 0.1, 1]`."
   ],
   "metadata": {
    "id": "id1LsNUzYFNZ",
    "pycharm": {
     "name": "#%% md\n"
    }
   }
  },
  {
   "cell_type": "code",
   "source": [],
   "metadata": {
    "id": "oLA6lBpuYEyW",
    "pycharm": {
     "name": "#%%\n",
     "is_executing": true
    }
   },
   "execution_count": null,
   "outputs": []
  },
  {
   "cell_type": "markdown",
   "source": [
    "3.3 Обучите модель на основе класса sklearn.linear_model.SGDRegressor с параметрами `alpha=0`. Сравните качество с вашими моделями из пункта 3.2."
   ],
   "metadata": {
    "id": "AH04Y_uuJ-uL",
    "pycharm": {
     "name": "#%% md\n"
    }
   }
  },
  {
   "cell_type": "code",
   "source": [],
   "metadata": {
    "id": "dhscwqqZMQMB",
    "pycharm": {
     "name": "#%%\n",
     "is_executing": true
    }
   },
   "execution_count": null,
   "outputs": []
  },
  {
   "cell_type": "markdown",
   "source": [
    "Ваш вывод (2-3 предложения):"
   ],
   "metadata": {
    "id": "x2YrYqJHKbhn",
    "pycharm": {
     "name": "#%% md\n"
    }
   }
  },
  {
   "cell_type": "markdown",
   "source": [
    "# 4. Самописная логистическая регрессиия (4 балла)\n",
    "\n",
    "Релизовать алгоритм построения модели логистической регрессии методом стохастического градиентного спуска (stochastic gradient descent, SGD) при помощи библиотек numpy, pytorch или tensorflow."
   ],
   "metadata": {
    "id": "ymPVCeWWJOU0",
    "pycharm": {
     "name": "#%% md\n"
    }
   }
  },
  {
   "cell_type": "code",
   "source": [
    "class SGDLogisticRegression:\n",
    "    def __init__(self, epsilon = 0.001):\n",
    "        self.w = None\n",
    "        self.bias = None\n",
    "        self.epsilon = epsilon\n",
    "        pass\n",
    "\n",
    "    def sigmoid(self, a):\n",
    "        return  1. / (1. + np.exp(-1. * a))\n",
    "\n",
    "    def fit(self, X, y, iterations=500):\n",
    "        # Ваш код здесь\n",
    "        pass\n",
    "\n",
    "\n",
    "    def predict(self, X):\n",
    "        # Ваш код здесь\n",
    "        pass\n"
   ],
   "metadata": {
    "id": "ynNyByt5Djfu",
    "pycharm": {
     "name": "#%%\n",
     "is_executing": true
    }
   },
   "execution_count": null,
   "outputs": []
  },
  {
   "cell_type": "markdown",
   "source": [
    "4.2 Обучите самописную модель. Воспользуйтесь sklearn.model_selection.GridSearchCV для подбора гипермапарметра (шага обновления градиента) epsilon среди `numpy.geomspace(0.0001, 1, num=13)`. Постройте график функции ошибки для epsilon `[0.0001, 0.001, 0.01, 0.1, 1]`."
   ],
   "metadata": {
    "id": "OMJmDxeWEXsA",
    "pycharm": {
     "name": "#%% md\n"
    }
   }
  },
  {
   "cell_type": "code",
   "source": [],
   "metadata": {
    "id": "_dhcxRqxEXU9",
    "pycharm": {
     "name": "#%%\n",
     "is_executing": true
    }
   },
   "execution_count": null,
   "outputs": []
  },
  {
   "cell_type": "markdown",
   "source": [
    " 4.3 Обучите модель на основе класса sklearn.linear_model.SGDClassifier с параметрами `loss='log'`. Сравните качество с вашими моделями из пункта 4.2."
   ],
   "metadata": {
    "id": "nRbKNb2OKYAl",
    "pycharm": {
     "name": "#%% md\n"
    }
   }
  },
  {
   "cell_type": "code",
   "source": [],
   "metadata": {
    "id": "7tNOK9X_JaIg",
    "pycharm": {
     "name": "#%%\n",
     "is_executing": true
    }
   },
   "execution_count": null,
   "outputs": []
  },
  {
   "cell_type": "markdown",
   "source": [
    "Ваш вывод (2-3 предложения):"
   ],
   "metadata": {
    "id": "GjokaJAtKo8c",
    "pycharm": {
     "name": "#%% md\n"
    }
   }
  },
  {
   "cell_type": "code",
   "source": [],
   "metadata": {
    "id": "LloKO6sUHaLr",
    "pycharm": {
     "name": "#%%\n",
     "is_executing": true
    }
   },
   "execution_count": null,
   "outputs": []
  }
 ]
}