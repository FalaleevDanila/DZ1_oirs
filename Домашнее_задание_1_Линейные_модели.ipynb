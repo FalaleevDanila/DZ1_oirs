{
 "nbformat": 4,
 "nbformat_minor": 0,
 "metadata": {
  "colab": {
   "name": "Домашнее задание 1. Линейные модели.ipynb",
   "provenance": [],
   "collapsed_sections": []
  },
  "kernelspec": {
   "name": "python3",
   "display_name": "Python 3"
  },
  "language_info": {
   "name": "python"
  }
 },
 "cells": [
  {
   "cell_type": "markdown",
   "source": [
    " # Домашнее задание 1. Линейные модели"
   ],
   "metadata": {
    "id": "ob7zZxZ2W0Np",
    "pycharm": {
     "name": "#%% md\n"
    }
   }
  },
  {
   "cell_type": "markdown",
   "source": [
    "### FALALEEV DANILA IU8-83 17 variant"
   ],
   "metadata": {
    "id": "vUPbnxUaWtTn",
    "pycharm": {
     "name": "#%% md\n"
    }
   }
  },
  {
   "cell_type": "markdown",
   "source": [
    "В зависимости от варианта, для решения задачи используйте следующие наборы данных:\n",
    "\n",
    "<table>\n",
    "    <thead>\n",
    "         <tr>\n",
    "            <th colspan=1>Задача классификации</th>\n",
    "            <th colspan=5>Задача регрессии</th>\n",
    "        </tr>\n",
    "        <tr>\n",
    "            <th> </th>\n",
    "            <th>A</th>\n",
    "            <th>B</th>\n",
    "            <th>C</th>\n",
    "            <th>D</th>\n",
    "            <th>E</th>\n",
    "        </tr>\n",
    "    </thead>\n",
    "    <tbody>\n",
    "        <tr>\n",
    "            <td>K</td>\n",
    "            <td style=\\\"background-color: #cc2020\\\">1</td>\n",
    "            <td style=\\\"background-color: #cc2020\\\">2</td>\n",
    "            <td style=\\\"background-color: #cc2020\\\">3</td>\n",
    "            <td style=\\\"background-color: #cc2020\\\">4</td>\n",
    "            <td style=\\\"background-color: #cc2020\\\">5</td>\n",
    "        </tr>\n",
    "        <tr>\n",
    "            <td>L</td>\n",
    "            <td style=\\\"background-color: #cc2020\\\">6</td>\n",
    "            <td style=\\\"background-color: #cc2020\\\">7</td>\n",
    "            <td style=\\\"background-color: #cc2020\\\">8</td>\n",
    "            <td style=\\\"background-color: #cc2020\\\">9</td>\n",
    "            <td style=\\\"background-color: #cc2020\\\">10</td>\n",
    "        </tr>\n",
    "        <tr>\n",
    "            <td>M</td>\n",
    "            <td style=\\\"background-color: #cc2020\\\">11</td>\n",
    "            <td style=\\\"background-color: #cc2020\\\">12</td>\n",
    "            <td style=\\\"background-color: #cc2020\\\">13</td>\n",
    "            <td style=\\\"background-color: #cc2020\\\">14</td>\n",
    "            <td style=\\\"background-color: #cc2020\\\">15</td>\n",
    "        </tr>\n",
    "        <tr>\n",
    "            <td>N</td>\n",
    "            <td style=\\\"background-color: #cc2020\\\">16</td>\n",
    "            <td>17</td>\n",
    "            <td style=\\\"background-color: #cc2020\\\">18</td>\n",
    "            <td style=\\\"background-color: #cc2020\\\">19</td>\n",
    "            <td style=\\\"background-color: #cc2020\\\">20</td>\n",
    "        </tr>\n",
    "        <tr>\n",
    "            <td>O</td>\n",
    "            <td style=\\\"background-color: #cc2020\\\">21</td>\n",
    "            <td style=\\\"background-color: #cc2020\\\">22</td>\n",
    "            <td style=\\\"background-color: #cc2020\\\">23</td>\n",
    "            <td style=\\\"background-color: #cc2020\\\">24</td>\n",
    "            <td style=\\\"background-color: #cc2020\\\">25</td>\n",
    "        </tr>\n",
    "    </tbody>\n",
    "</table>"
   ],
   "metadata": {
    "id": "Yhi_UjnwGeN-",
    "pycharm": {
     "name": "#%% md\n"
    }
   }
  },
  {
   "cell_type": "markdown",
   "source": [
    "### Наборы данных\n",
    "\n",
    "**Задача регрессии**\n",
    "\n",
    "A. [Набор данных](https://www.kaggle.com/aungpyaeap/fish-market) Таблица `Fish.csv`. Задача: построить модель, предсказывающую вес рыбы (колонка `Weight`). Baseline: RMSE (root mean square error) = 83.7\n",
    "\n",
    "B. [Набор данных](https://www.kaggle.com/nehalbirla/vehicle-dataset-from-cardekho) Таблица `Car details v3.csv`. Задача: построить модель, предсказывающую стоимость автомобиля (колонка `selling_price`). Baseline: RMSE (root mean square error) = 110000\n",
    "\n",
    "C. [Набор данных](https://www.kaggle.com/quantbruce/real-estate-price-prediction) Таблица `Real estate.csv`. Задача: построить модель, предсказывающую стоимость квадратного метра жилья (колонка `Y house price of unit area`). Baseline: RMSE (root mean square error) = 8\n",
    "\n",
    "D. [Набор данных](https://www.kaggle.com/mirichoi0218/insurance) Таблица `insurance.csv`. Задача: построить модель, предсказывающую стоимость медицинской страховки (колонка `charges`). Baseline: RMSE (root mean square error) = 5800\n",
    "\n",
    "E. [Набор данных](https://archive.ics.uci.edu/ml/machine-learning-databases/wine-quality/) Объединить таблицы `winequality-white.csv` и `winequality-red.csv`. Задача: построить модель, предсказывающую качество вина (колонка `quality`). Baseline: RMSE (root mean square error) = 0.8\n",
    "\n",
    "\n",
    "---\n",
    "\n",
    "**Задача классификации**\n",
    "\n",
    "K. [Набор данных](https://www.kaggle.com/c/jigsaw-toxic-comment-classification-challenge/data) Таблица `train.csv`. Задача: детектировать токсичные комментарии (0 или 1 в колонке `toxic`) исключительно по содержимому комментария (колонка `comment_text`). Baseline: sklearn.metrics.f1_score(average='macro') по колонке `toxic` = 0.86\n",
    "\n",
    "L. [Набор данных](https://www.kaggle.com/pavansubhasht/ibm-hr-analytics-attrition-dataset) Таблица `WA_Fn-UseC_-HR-Employee-Attrition.csv`. Задача: предсказать увольнение сотрудника (колонка `attrition`). Baseline: sklearn.metrics.f1_score(average='macro') = 0.70\n",
    "\n",
    "M. [Набор данных](https://www.kaggle.com/uciml/sms-spam-collection-dataset) Таблица `spam.csv` (при загрузку датасета в питоне использовать кодировку encoding='latin-1'). Задача: детектировать, является ли СМС-сообщение спамом. Baseline: sklearn.metrics.f1_score(average='macro') = 0.95\n",
    "\n",
    "N. [Набор данных](https://www.kaggle.com/uciml/pima-indians-diabetes-database) Таблица `diabetes.csv`. Задача: детектировать, есть ли у человека диабет. Baseline: sklearn.metrics.f1_score(average='macro') = 0.73\n",
    "\n",
    "O. [Набор данных](https://www.kaggle.com/fedesoriano/stroke-prediction-dataset) Таблица `healthcare-dataset-stroke-data.csv`. Задача: детектировать, был ли у человека инсульт. Baseline: sklearn.metrics.f1_score(average='macro') = 0.56\n"
   ],
   "metadata": {
    "id": "tPE-QsRUCGjY",
    "pycharm": {
     "name": "#%% md\n"
    }
   }
  },
  {
   "cell_type": "markdown",
   "source": [
    "# 0. Инициализация ноутбука\n",
    "\n",
    "Загрузка необходимых библиотек"
   ],
   "metadata": {
    "id": "eTQftz5yJ0Qf",
    "pycharm": {
     "name": "#%% md\n"
    }
   }
  },
  {
   "cell_type": "code",
   "source": [
    "import numpy as np\n",
    "import pandas as pd\n",
    "import matplotlib.pyplot as plt\n",
    "import seaborn as sns\n",
    "from  sklearn.metrics import mean_squared_error"
   ],
   "metadata": {
    "id": "3MGNvut_Jnd3",
    "pycharm": {
     "name": "#%%\n"
    }
   },
   "execution_count": 67,
   "outputs": []
  },
  {
   "cell_type": "markdown",
   "source": [
    "# 1. Задача регресссии (9 баллов)\n",
    "\n",
    "Постройте модель машинного обучения, решающую задачу регресии на вашем наборе данных. Задание считается выполненным, если соответствующая оценка качества на тестовой выборке >= baseline."
   ],
   "metadata": {
    "id": "-L4jbO78B-kv",
    "pycharm": {
     "name": "#%% md\n"
    }
   }
  },
  {
   "cell_type": "markdown",
   "source": [
    "## 1.1 Загрузка данных\n",
    "\n",
    "Загрузите данные в датафрейм при помощи функции `read_csv` блиблиотеки pandas"
   ],
   "metadata": {
    "id": "eKbd7LAqCFSj",
    "pycharm": {
     "name": "#%% md\n"
    }
   }
  },
  {
   "cell_type": "code",
   "source": [
    "car_details = pd.read_csv('./Car details v3.csv')\n",
    "\n",
    "car_details = car_details.dropna()\n",
    "car_details\n"
   ],
   "metadata": {
    "id": "UJhaFPwm0KTf",
    "pycharm": {
     "name": "#%%\n"
    }
   },
   "execution_count": 68,
   "outputs": [
    {
     "data": {
      "text/plain": "                              name  year  selling_price  km_driven    fuel  \\\n0           Maruti Swift Dzire VDI  2014         450000     145500  Diesel   \n1     Skoda Rapid 1.5 TDI Ambition  2014         370000     120000  Diesel   \n2         Honda City 2017-2020 EXi  2006         158000     140000  Petrol   \n3        Hyundai i20 Sportz Diesel  2010         225000     127000  Diesel   \n4           Maruti Swift VXI BSIII  2007         130000     120000  Petrol   \n...                            ...   ...            ...        ...     ...   \n8123             Hyundai i20 Magna  2013         320000     110000  Petrol   \n8124         Hyundai Verna CRDi SX  2007         135000     119000  Diesel   \n8125        Maruti Swift Dzire ZDi  2009         382000     120000  Diesel   \n8126               Tata Indigo CR4  2013         290000      25000  Diesel   \n8127               Tata Indigo CR4  2013         290000      25000  Diesel   \n\n     seller_type transmission                 owner     mileage   engine  \\\n0     Individual       Manual           First Owner   23.4 kmpl  1248 CC   \n1     Individual       Manual          Second Owner  21.14 kmpl  1498 CC   \n2     Individual       Manual           Third Owner   17.7 kmpl  1497 CC   \n3     Individual       Manual           First Owner   23.0 kmpl  1396 CC   \n4     Individual       Manual           First Owner   16.1 kmpl  1298 CC   \n...          ...          ...                   ...         ...      ...   \n8123  Individual       Manual           First Owner   18.5 kmpl  1197 CC   \n8124  Individual       Manual  Fourth & Above Owner   16.8 kmpl  1493 CC   \n8125  Individual       Manual           First Owner   19.3 kmpl  1248 CC   \n8126  Individual       Manual           First Owner  23.57 kmpl  1396 CC   \n8127  Individual       Manual           First Owner  23.57 kmpl  1396 CC   \n\n       max_power                     torque  seats  \n0         74 bhp             190Nm@ 2000rpm    5.0  \n1     103.52 bhp        250Nm@ 1500-2500rpm    5.0  \n2         78 bhp      12.7@ 2,700(kgm@ rpm)    5.0  \n3         90 bhp   22.4 kgm at 1750-2750rpm    5.0  \n4       88.2 bhp      11.5@ 4,500(kgm@ rpm)    5.0  \n...          ...                        ...    ...  \n8123   82.85 bhp           113.7Nm@ 4000rpm    5.0  \n8124     110 bhp  24@ 1,900-2,750(kgm@ rpm)    5.0  \n8125    73.9 bhp             190Nm@ 2000rpm    5.0  \n8126      70 bhp        140Nm@ 1800-3000rpm    5.0  \n8127      70 bhp        140Nm@ 1800-3000rpm    5.0  \n\n[7906 rows x 13 columns]",
      "text/html": "<div>\n<style scoped>\n    .dataframe tbody tr th:only-of-type {\n        vertical-align: middle;\n    }\n\n    .dataframe tbody tr th {\n        vertical-align: top;\n    }\n\n    .dataframe thead th {\n        text-align: right;\n    }\n</style>\n<table border=\"1\" class=\"dataframe\">\n  <thead>\n    <tr style=\"text-align: right;\">\n      <th></th>\n      <th>name</th>\n      <th>year</th>\n      <th>selling_price</th>\n      <th>km_driven</th>\n      <th>fuel</th>\n      <th>seller_type</th>\n      <th>transmission</th>\n      <th>owner</th>\n      <th>mileage</th>\n      <th>engine</th>\n      <th>max_power</th>\n      <th>torque</th>\n      <th>seats</th>\n    </tr>\n  </thead>\n  <tbody>\n    <tr>\n      <th>0</th>\n      <td>Maruti Swift Dzire VDI</td>\n      <td>2014</td>\n      <td>450000</td>\n      <td>145500</td>\n      <td>Diesel</td>\n      <td>Individual</td>\n      <td>Manual</td>\n      <td>First Owner</td>\n      <td>23.4 kmpl</td>\n      <td>1248 CC</td>\n      <td>74 bhp</td>\n      <td>190Nm@ 2000rpm</td>\n      <td>5.0</td>\n    </tr>\n    <tr>\n      <th>1</th>\n      <td>Skoda Rapid 1.5 TDI Ambition</td>\n      <td>2014</td>\n      <td>370000</td>\n      <td>120000</td>\n      <td>Diesel</td>\n      <td>Individual</td>\n      <td>Manual</td>\n      <td>Second Owner</td>\n      <td>21.14 kmpl</td>\n      <td>1498 CC</td>\n      <td>103.52 bhp</td>\n      <td>250Nm@ 1500-2500rpm</td>\n      <td>5.0</td>\n    </tr>\n    <tr>\n      <th>2</th>\n      <td>Honda City 2017-2020 EXi</td>\n      <td>2006</td>\n      <td>158000</td>\n      <td>140000</td>\n      <td>Petrol</td>\n      <td>Individual</td>\n      <td>Manual</td>\n      <td>Third Owner</td>\n      <td>17.7 kmpl</td>\n      <td>1497 CC</td>\n      <td>78 bhp</td>\n      <td>12.7@ 2,700(kgm@ rpm)</td>\n      <td>5.0</td>\n    </tr>\n    <tr>\n      <th>3</th>\n      <td>Hyundai i20 Sportz Diesel</td>\n      <td>2010</td>\n      <td>225000</td>\n      <td>127000</td>\n      <td>Diesel</td>\n      <td>Individual</td>\n      <td>Manual</td>\n      <td>First Owner</td>\n      <td>23.0 kmpl</td>\n      <td>1396 CC</td>\n      <td>90 bhp</td>\n      <td>22.4 kgm at 1750-2750rpm</td>\n      <td>5.0</td>\n    </tr>\n    <tr>\n      <th>4</th>\n      <td>Maruti Swift VXI BSIII</td>\n      <td>2007</td>\n      <td>130000</td>\n      <td>120000</td>\n      <td>Petrol</td>\n      <td>Individual</td>\n      <td>Manual</td>\n      <td>First Owner</td>\n      <td>16.1 kmpl</td>\n      <td>1298 CC</td>\n      <td>88.2 bhp</td>\n      <td>11.5@ 4,500(kgm@ rpm)</td>\n      <td>5.0</td>\n    </tr>\n    <tr>\n      <th>...</th>\n      <td>...</td>\n      <td>...</td>\n      <td>...</td>\n      <td>...</td>\n      <td>...</td>\n      <td>...</td>\n      <td>...</td>\n      <td>...</td>\n      <td>...</td>\n      <td>...</td>\n      <td>...</td>\n      <td>...</td>\n      <td>...</td>\n    </tr>\n    <tr>\n      <th>8123</th>\n      <td>Hyundai i20 Magna</td>\n      <td>2013</td>\n      <td>320000</td>\n      <td>110000</td>\n      <td>Petrol</td>\n      <td>Individual</td>\n      <td>Manual</td>\n      <td>First Owner</td>\n      <td>18.5 kmpl</td>\n      <td>1197 CC</td>\n      <td>82.85 bhp</td>\n      <td>113.7Nm@ 4000rpm</td>\n      <td>5.0</td>\n    </tr>\n    <tr>\n      <th>8124</th>\n      <td>Hyundai Verna CRDi SX</td>\n      <td>2007</td>\n      <td>135000</td>\n      <td>119000</td>\n      <td>Diesel</td>\n      <td>Individual</td>\n      <td>Manual</td>\n      <td>Fourth &amp; Above Owner</td>\n      <td>16.8 kmpl</td>\n      <td>1493 CC</td>\n      <td>110 bhp</td>\n      <td>24@ 1,900-2,750(kgm@ rpm)</td>\n      <td>5.0</td>\n    </tr>\n    <tr>\n      <th>8125</th>\n      <td>Maruti Swift Dzire ZDi</td>\n      <td>2009</td>\n      <td>382000</td>\n      <td>120000</td>\n      <td>Diesel</td>\n      <td>Individual</td>\n      <td>Manual</td>\n      <td>First Owner</td>\n      <td>19.3 kmpl</td>\n      <td>1248 CC</td>\n      <td>73.9 bhp</td>\n      <td>190Nm@ 2000rpm</td>\n      <td>5.0</td>\n    </tr>\n    <tr>\n      <th>8126</th>\n      <td>Tata Indigo CR4</td>\n      <td>2013</td>\n      <td>290000</td>\n      <td>25000</td>\n      <td>Diesel</td>\n      <td>Individual</td>\n      <td>Manual</td>\n      <td>First Owner</td>\n      <td>23.57 kmpl</td>\n      <td>1396 CC</td>\n      <td>70 bhp</td>\n      <td>140Nm@ 1800-3000rpm</td>\n      <td>5.0</td>\n    </tr>\n    <tr>\n      <th>8127</th>\n      <td>Tata Indigo CR4</td>\n      <td>2013</td>\n      <td>290000</td>\n      <td>25000</td>\n      <td>Diesel</td>\n      <td>Individual</td>\n      <td>Manual</td>\n      <td>First Owner</td>\n      <td>23.57 kmpl</td>\n      <td>1396 CC</td>\n      <td>70 bhp</td>\n      <td>140Nm@ 1800-3000rpm</td>\n      <td>5.0</td>\n    </tr>\n  </tbody>\n</table>\n<p>7906 rows × 13 columns</p>\n</div>"
     },
     "execution_count": 68,
     "metadata": {},
     "output_type": "execute_result"
    }
   ]
  },
  {
   "cell_type": "markdown",
   "source": [
    "## 1.2 График совместного распределения признаков\n",
    "\n",
    "\n",
    "Постройте график совместного распределения количественных признаков при помощи функции pairplot библиотеки seaborn"
   ],
   "metadata": {
    "id": "tQ_ZBqyRCYZC",
    "pycharm": {
     "name": "#%% md\n"
    }
   }
  },
  {
   "cell_type": "code",
   "source": [
    "#sns.pairplot(car_details)"
   ],
   "metadata": {
    "id": "hTASV_TJCT4g",
    "pycharm": {
     "name": "#%%\n"
    }
   },
   "execution_count": 69,
   "outputs": []
  },
  {
   "cell_type": "code",
   "execution_count": 111,
   "outputs": [
    {
     "data": {
      "text/plain": "      year  selling_price  km_driven  fuel  seller_type  transmission  owner  \\\n0     2014         450000     145500     0            0             0      0   \n1     2014         370000     120000     0            0             0      1   \n2     2006         158000     140000     1            0             0      2   \n3     2010         225000     127000     0            0             0      0   \n4     2007         130000     120000     1            0             0      0   \n...    ...            ...        ...   ...          ...           ...    ...   \n8123  2013         320000     110000     1            0             0      0   \n8124  2007         135000     119000     0            0             0      3   \n8125  2009         382000     120000     0            0             0      0   \n8126  2013         290000      25000     0            0             0      0   \n8127  2013         290000      25000     0            0             0      0   \n\n      mileage  engine  max_power  seats  \n0       23.40  1248.0      74.00    5.0  \n1       21.14  1498.0     103.52    5.0  \n2       17.70  1497.0      78.00    5.0  \n3       23.00  1396.0      90.00    5.0  \n4       16.10  1298.0      88.20    5.0  \n...       ...     ...        ...    ...  \n8123    18.50  1197.0      82.85    5.0  \n8124    16.80  1493.0     110.00    5.0  \n8125    19.30  1248.0      73.90    5.0  \n8126    23.57  1396.0      70.00    5.0  \n8127    23.57  1396.0      70.00    5.0  \n\n[7906 rows x 11 columns]",
      "text/html": "<div>\n<style scoped>\n    .dataframe tbody tr th:only-of-type {\n        vertical-align: middle;\n    }\n\n    .dataframe tbody tr th {\n        vertical-align: top;\n    }\n\n    .dataframe thead th {\n        text-align: right;\n    }\n</style>\n<table border=\"1\" class=\"dataframe\">\n  <thead>\n    <tr style=\"text-align: right;\">\n      <th></th>\n      <th>year</th>\n      <th>selling_price</th>\n      <th>km_driven</th>\n      <th>fuel</th>\n      <th>seller_type</th>\n      <th>transmission</th>\n      <th>owner</th>\n      <th>mileage</th>\n      <th>engine</th>\n      <th>max_power</th>\n      <th>seats</th>\n    </tr>\n  </thead>\n  <tbody>\n    <tr>\n      <th>0</th>\n      <td>2014</td>\n      <td>450000</td>\n      <td>145500</td>\n      <td>0</td>\n      <td>0</td>\n      <td>0</td>\n      <td>0</td>\n      <td>23.40</td>\n      <td>1248.0</td>\n      <td>74.00</td>\n      <td>5.0</td>\n    </tr>\n    <tr>\n      <th>1</th>\n      <td>2014</td>\n      <td>370000</td>\n      <td>120000</td>\n      <td>0</td>\n      <td>0</td>\n      <td>0</td>\n      <td>1</td>\n      <td>21.14</td>\n      <td>1498.0</td>\n      <td>103.52</td>\n      <td>5.0</td>\n    </tr>\n    <tr>\n      <th>2</th>\n      <td>2006</td>\n      <td>158000</td>\n      <td>140000</td>\n      <td>1</td>\n      <td>0</td>\n      <td>0</td>\n      <td>2</td>\n      <td>17.70</td>\n      <td>1497.0</td>\n      <td>78.00</td>\n      <td>5.0</td>\n    </tr>\n    <tr>\n      <th>3</th>\n      <td>2010</td>\n      <td>225000</td>\n      <td>127000</td>\n      <td>0</td>\n      <td>0</td>\n      <td>0</td>\n      <td>0</td>\n      <td>23.00</td>\n      <td>1396.0</td>\n      <td>90.00</td>\n      <td>5.0</td>\n    </tr>\n    <tr>\n      <th>4</th>\n      <td>2007</td>\n      <td>130000</td>\n      <td>120000</td>\n      <td>1</td>\n      <td>0</td>\n      <td>0</td>\n      <td>0</td>\n      <td>16.10</td>\n      <td>1298.0</td>\n      <td>88.20</td>\n      <td>5.0</td>\n    </tr>\n    <tr>\n      <th>...</th>\n      <td>...</td>\n      <td>...</td>\n      <td>...</td>\n      <td>...</td>\n      <td>...</td>\n      <td>...</td>\n      <td>...</td>\n      <td>...</td>\n      <td>...</td>\n      <td>...</td>\n      <td>...</td>\n    </tr>\n    <tr>\n      <th>8123</th>\n      <td>2013</td>\n      <td>320000</td>\n      <td>110000</td>\n      <td>1</td>\n      <td>0</td>\n      <td>0</td>\n      <td>0</td>\n      <td>18.50</td>\n      <td>1197.0</td>\n      <td>82.85</td>\n      <td>5.0</td>\n    </tr>\n    <tr>\n      <th>8124</th>\n      <td>2007</td>\n      <td>135000</td>\n      <td>119000</td>\n      <td>0</td>\n      <td>0</td>\n      <td>0</td>\n      <td>3</td>\n      <td>16.80</td>\n      <td>1493.0</td>\n      <td>110.00</td>\n      <td>5.0</td>\n    </tr>\n    <tr>\n      <th>8125</th>\n      <td>2009</td>\n      <td>382000</td>\n      <td>120000</td>\n      <td>0</td>\n      <td>0</td>\n      <td>0</td>\n      <td>0</td>\n      <td>19.30</td>\n      <td>1248.0</td>\n      <td>73.90</td>\n      <td>5.0</td>\n    </tr>\n    <tr>\n      <th>8126</th>\n      <td>2013</td>\n      <td>290000</td>\n      <td>25000</td>\n      <td>0</td>\n      <td>0</td>\n      <td>0</td>\n      <td>0</td>\n      <td>23.57</td>\n      <td>1396.0</td>\n      <td>70.00</td>\n      <td>5.0</td>\n    </tr>\n    <tr>\n      <th>8127</th>\n      <td>2013</td>\n      <td>290000</td>\n      <td>25000</td>\n      <td>0</td>\n      <td>0</td>\n      <td>0</td>\n      <td>0</td>\n      <td>23.57</td>\n      <td>1396.0</td>\n      <td>70.00</td>\n      <td>5.0</td>\n    </tr>\n  </tbody>\n</table>\n<p>7906 rows × 11 columns</p>\n</div>"
     },
     "execution_count": 111,
     "metadata": {},
     "output_type": "execute_result"
    }
   ],
   "source": [
    "' Переведем все строковые параметры в числа'\n",
    "car_details[['fuel',\n",
    "             'seller_type',\n",
    "             'transmission',\n",
    "             'owner']] = car_details[['fuel',\n",
    "                                      'seller_type',\n",
    "                                      'transmission',\n",
    "                                      'owner']].apply(lambda x: pd.factorize(x)[0])\n",
    "\n",
    "\n",
    "\n",
    "car_details"
   ],
   "metadata": {
    "collapsed": false,
    "pycharm": {
     "name": "#%%\n"
    }
   }
  },
  {
   "cell_type": "code",
   "execution_count": 112,
   "outputs": [
    {
     "ename": "AttributeError",
     "evalue": "'float' object has no attribute 'split'",
     "output_type": "error",
     "traceback": [
      "\u001B[0;31m---------------------------------------------------------------------------\u001B[0m",
      "\u001B[0;31mAttributeError\u001B[0m                            Traceback (most recent call last)",
      "Input \u001B[0;32mIn [112]\u001B[0m, in \u001B[0;36m<cell line: 2>\u001B[0;34m()\u001B[0m\n\u001B[1;32m      1\u001B[0m to_float_parse \u001B[38;5;241m=\u001B[39m \u001B[38;5;28;01mlambda\u001B[39;00m x: \u001B[38;5;28mfloat\u001B[39m(x\u001B[38;5;241m.\u001B[39msplit(\u001B[38;5;124m'\u001B[39m\u001B[38;5;124m \u001B[39m\u001B[38;5;124m'\u001B[39m)[\u001B[38;5;241m0\u001B[39m])\n\u001B[0;32m----> 2\u001B[0m car_details[\u001B[38;5;124m'\u001B[39m\u001B[38;5;124mmax_power\u001B[39m\u001B[38;5;124m'\u001B[39m] \u001B[38;5;241m=\u001B[39m \u001B[43mcar_details\u001B[49m\u001B[43m[\u001B[49m\u001B[38;5;124;43m'\u001B[39;49m\u001B[38;5;124;43mmax_power\u001B[39;49m\u001B[38;5;124;43m'\u001B[39;49m\u001B[43m]\u001B[49m\u001B[38;5;241;43m.\u001B[39;49m\u001B[43mapply\u001B[49m\u001B[43m(\u001B[49m\u001B[43mto_float_parse\u001B[49m\u001B[43m)\u001B[49m\n\u001B[1;32m      3\u001B[0m car_details[\u001B[38;5;124m'\u001B[39m\u001B[38;5;124mengine\u001B[39m\u001B[38;5;124m'\u001B[39m] \u001B[38;5;241m=\u001B[39m car_details[\u001B[38;5;124m'\u001B[39m\u001B[38;5;124mengine\u001B[39m\u001B[38;5;124m'\u001B[39m]\u001B[38;5;241m.\u001B[39mapply(to_float_parse)\n\u001B[1;32m      5\u001B[0m car_details\n",
      "File \u001B[0;32m~/miniconda3/lib/python3.8/site-packages/pandas/core/series.py:4433\u001B[0m, in \u001B[0;36mSeries.apply\u001B[0;34m(self, func, convert_dtype, args, **kwargs)\u001B[0m\n\u001B[1;32m   4323\u001B[0m \u001B[38;5;28;01mdef\u001B[39;00m \u001B[38;5;21mapply\u001B[39m(\n\u001B[1;32m   4324\u001B[0m     \u001B[38;5;28mself\u001B[39m,\n\u001B[1;32m   4325\u001B[0m     func: AggFuncType,\n\u001B[0;32m   (...)\u001B[0m\n\u001B[1;32m   4328\u001B[0m     \u001B[38;5;241m*\u001B[39m\u001B[38;5;241m*\u001B[39mkwargs,\n\u001B[1;32m   4329\u001B[0m ) \u001B[38;5;241m-\u001B[39m\u001B[38;5;241m>\u001B[39m DataFrame \u001B[38;5;241m|\u001B[39m Series:\n\u001B[1;32m   4330\u001B[0m     \u001B[38;5;124;03m\"\"\"\u001B[39;00m\n\u001B[1;32m   4331\u001B[0m \u001B[38;5;124;03m    Invoke function on values of Series.\u001B[39;00m\n\u001B[1;32m   4332\u001B[0m \n\u001B[0;32m   (...)\u001B[0m\n\u001B[1;32m   4431\u001B[0m \u001B[38;5;124;03m    dtype: float64\u001B[39;00m\n\u001B[1;32m   4432\u001B[0m \u001B[38;5;124;03m    \"\"\"\u001B[39;00m\n\u001B[0;32m-> 4433\u001B[0m     \u001B[38;5;28;01mreturn\u001B[39;00m \u001B[43mSeriesApply\u001B[49m\u001B[43m(\u001B[49m\u001B[38;5;28;43mself\u001B[39;49m\u001B[43m,\u001B[49m\u001B[43m \u001B[49m\u001B[43mfunc\u001B[49m\u001B[43m,\u001B[49m\u001B[43m \u001B[49m\u001B[43mconvert_dtype\u001B[49m\u001B[43m,\u001B[49m\u001B[43m \u001B[49m\u001B[43margs\u001B[49m\u001B[43m,\u001B[49m\u001B[43m \u001B[49m\u001B[43mkwargs\u001B[49m\u001B[43m)\u001B[49m\u001B[38;5;241;43m.\u001B[39;49m\u001B[43mapply\u001B[49m\u001B[43m(\u001B[49m\u001B[43m)\u001B[49m\n",
      "File \u001B[0;32m~/miniconda3/lib/python3.8/site-packages/pandas/core/apply.py:1082\u001B[0m, in \u001B[0;36mSeriesApply.apply\u001B[0;34m(self)\u001B[0m\n\u001B[1;32m   1078\u001B[0m \u001B[38;5;28;01mif\u001B[39;00m \u001B[38;5;28misinstance\u001B[39m(\u001B[38;5;28mself\u001B[39m\u001B[38;5;241m.\u001B[39mf, \u001B[38;5;28mstr\u001B[39m):\n\u001B[1;32m   1079\u001B[0m     \u001B[38;5;66;03m# if we are a string, try to dispatch\u001B[39;00m\n\u001B[1;32m   1080\u001B[0m     \u001B[38;5;28;01mreturn\u001B[39;00m \u001B[38;5;28mself\u001B[39m\u001B[38;5;241m.\u001B[39mapply_str()\n\u001B[0;32m-> 1082\u001B[0m \u001B[38;5;28;01mreturn\u001B[39;00m \u001B[38;5;28;43mself\u001B[39;49m\u001B[38;5;241;43m.\u001B[39;49m\u001B[43mapply_standard\u001B[49m\u001B[43m(\u001B[49m\u001B[43m)\u001B[49m\n",
      "File \u001B[0;32m~/miniconda3/lib/python3.8/site-packages/pandas/core/apply.py:1137\u001B[0m, in \u001B[0;36mSeriesApply.apply_standard\u001B[0;34m(self)\u001B[0m\n\u001B[1;32m   1131\u001B[0m         values \u001B[38;5;241m=\u001B[39m obj\u001B[38;5;241m.\u001B[39mastype(\u001B[38;5;28mobject\u001B[39m)\u001B[38;5;241m.\u001B[39m_values\n\u001B[1;32m   1132\u001B[0m         \u001B[38;5;66;03m# error: Argument 2 to \"map_infer\" has incompatible type\u001B[39;00m\n\u001B[1;32m   1133\u001B[0m         \u001B[38;5;66;03m# \"Union[Callable[..., Any], str, List[Union[Callable[..., Any], str]],\u001B[39;00m\n\u001B[1;32m   1134\u001B[0m         \u001B[38;5;66;03m# Dict[Hashable, Union[Union[Callable[..., Any], str],\u001B[39;00m\n\u001B[1;32m   1135\u001B[0m         \u001B[38;5;66;03m# List[Union[Callable[..., Any], str]]]]]\"; expected\u001B[39;00m\n\u001B[1;32m   1136\u001B[0m         \u001B[38;5;66;03m# \"Callable[[Any], Any]\"\u001B[39;00m\n\u001B[0;32m-> 1137\u001B[0m         mapped \u001B[38;5;241m=\u001B[39m \u001B[43mlib\u001B[49m\u001B[38;5;241;43m.\u001B[39;49m\u001B[43mmap_infer\u001B[49m\u001B[43m(\u001B[49m\n\u001B[1;32m   1138\u001B[0m \u001B[43m            \u001B[49m\u001B[43mvalues\u001B[49m\u001B[43m,\u001B[49m\n\u001B[1;32m   1139\u001B[0m \u001B[43m            \u001B[49m\u001B[43mf\u001B[49m\u001B[43m,\u001B[49m\u001B[43m  \u001B[49m\u001B[38;5;66;43;03m# type: ignore[arg-type]\u001B[39;49;00m\n\u001B[1;32m   1140\u001B[0m \u001B[43m            \u001B[49m\u001B[43mconvert\u001B[49m\u001B[38;5;241;43m=\u001B[39;49m\u001B[38;5;28;43mself\u001B[39;49m\u001B[38;5;241;43m.\u001B[39;49m\u001B[43mconvert_dtype\u001B[49m\u001B[43m,\u001B[49m\n\u001B[1;32m   1141\u001B[0m \u001B[43m        \u001B[49m\u001B[43m)\u001B[49m\n\u001B[1;32m   1143\u001B[0m \u001B[38;5;28;01mif\u001B[39;00m \u001B[38;5;28mlen\u001B[39m(mapped) \u001B[38;5;129;01mand\u001B[39;00m \u001B[38;5;28misinstance\u001B[39m(mapped[\u001B[38;5;241m0\u001B[39m], ABCSeries):\n\u001B[1;32m   1144\u001B[0m     \u001B[38;5;66;03m# GH#43986 Need to do list(mapped) in order to get treated as nested\u001B[39;00m\n\u001B[1;32m   1145\u001B[0m     \u001B[38;5;66;03m#  See also GH#25959 regarding EA support\u001B[39;00m\n\u001B[1;32m   1146\u001B[0m     \u001B[38;5;28;01mreturn\u001B[39;00m obj\u001B[38;5;241m.\u001B[39m_constructor_expanddim(\u001B[38;5;28mlist\u001B[39m(mapped), index\u001B[38;5;241m=\u001B[39mobj\u001B[38;5;241m.\u001B[39mindex)\n",
      "File \u001B[0;32m~/miniconda3/lib/python3.8/site-packages/pandas/_libs/lib.pyx:2870\u001B[0m, in \u001B[0;36mpandas._libs.lib.map_infer\u001B[0;34m()\u001B[0m\n",
      "Input \u001B[0;32mIn [112]\u001B[0m, in \u001B[0;36m<lambda>\u001B[0;34m(x)\u001B[0m\n\u001B[0;32m----> 1\u001B[0m to_float_parse \u001B[38;5;241m=\u001B[39m \u001B[38;5;28;01mlambda\u001B[39;00m x: \u001B[38;5;28mfloat\u001B[39m(\u001B[43mx\u001B[49m\u001B[38;5;241;43m.\u001B[39;49m\u001B[43msplit\u001B[49m(\u001B[38;5;124m'\u001B[39m\u001B[38;5;124m \u001B[39m\u001B[38;5;124m'\u001B[39m)[\u001B[38;5;241m0\u001B[39m])\n\u001B[1;32m      2\u001B[0m car_details[\u001B[38;5;124m'\u001B[39m\u001B[38;5;124mmax_power\u001B[39m\u001B[38;5;124m'\u001B[39m] \u001B[38;5;241m=\u001B[39m car_details[\u001B[38;5;124m'\u001B[39m\u001B[38;5;124mmax_power\u001B[39m\u001B[38;5;124m'\u001B[39m]\u001B[38;5;241m.\u001B[39mapply(to_float_parse)\n\u001B[1;32m      3\u001B[0m car_details[\u001B[38;5;124m'\u001B[39m\u001B[38;5;124mengine\u001B[39m\u001B[38;5;124m'\u001B[39m] \u001B[38;5;241m=\u001B[39m car_details[\u001B[38;5;124m'\u001B[39m\u001B[38;5;124mengine\u001B[39m\u001B[38;5;124m'\u001B[39m]\u001B[38;5;241m.\u001B[39mapply(to_float_parse)\n",
      "\u001B[0;31mAttributeError\u001B[0m: 'float' object has no attribute 'split'"
     ]
    }
   ],
   "source": [
    "to_float_parse = lambda x: float(x.split(' ')[0])\n",
    "car_details['max_power'] = car_details['max_power'].apply(to_float_parse)\n",
    "car_details['engine'] = car_details['engine'].apply(to_float_parse)\n",
    "\n",
    "car_details"
   ],
   "metadata": {
    "collapsed": false,
    "pycharm": {
     "name": "#%%\n"
    }
   }
  },
  {
   "cell_type": "code",
   "execution_count": null,
   "outputs": [],
   "source": [
    "to_mileage= []\n",
    "for i in car_details.mileage:\n",
    "    if str(i).endswith('km/kg'):\n",
    "        i = i.split(' ')[0]\n",
    "        i = float(i) * 1.40\n",
    "        to_mileage.append(float(i))\n",
    "    elif str(i).endswith('kmpl'):\n",
    "        i = i.split(' ')[0]\n",
    "        to_mileage.append(float(i))\n",
    "\n",
    "car_details['mileage']=to_mileage\n",
    "car_details"
   ],
   "metadata": {
    "collapsed": false,
    "pycharm": {
     "name": "#%%\n"
    }
   }
  },
  {
   "cell_type": "code",
   "execution_count": null,
   "outputs": [],
   "source": [
    "car_details[['torque', 'torque_remainder']] = car_details['torque'].str.split('@', 1, expand=True)\n",
    "car_details.drop(['torque_remainder'],axis=1,inplace=True)\n",
    "car_details['torque']= car_details['torque'].str.extract('(^\\d*)')\n",
    "car_details['torque']= car_details['torque'].fillna(150)\n",
    "car_details['torque']=car_details['torque'].astype('int')\n",
    "car_details['torque'] = car_details['torque'].apply(lambda x: 9.8*x if x <= 50 else x)\n"
   ],
   "metadata": {
    "collapsed": false,
    "pycharm": {
     "name": "#%%\n"
    }
   }
  },
  {
   "cell_type": "code",
   "execution_count": null,
   "outputs": [],
   "source": [
    "car_details"
   ],
   "metadata": {
    "collapsed": false,
    "pycharm": {
     "name": "#%%\n"
    }
   }
  },
  {
   "cell_type": "code",
   "execution_count": 113,
   "outputs": [],
   "source": [
    "#sns.pairplot(car_details)"
   ],
   "metadata": {
    "collapsed": false,
    "pycharm": {
     "name": "#%%\n"
    }
   }
  },
  {
   "cell_type": "markdown",
   "source": [
    "## 1.3 Разделение набора данных на тренировочный и тестовый\n",
    "\n",
    "Разделите набор данных на тренировочный и тестовый в соотношении 80%/20% при помощи функции train_test_split библиотеки sklearn.model_selection. При необходимости категориальные признаки в числовые (например, при помощи функции get_dummies библиотеки pandas)."
   ],
   "metadata": {
    "id": "Uf5huLhWDAAs",
    "pycharm": {
     "name": "#%% md\n"
    }
   }
  },
  {
   "cell_type": "code",
   "source": [
    "from sklearn.model_selection import train_test_split"
   ],
   "metadata": {
    "id": "m4TFkOgJOKVx",
    "pycharm": {
     "name": "#%%\n"
    }
   },
   "execution_count": 114,
   "outputs": []
  },
  {
   "cell_type": "code",
   "execution_count": 115,
   "outputs": [
    {
     "ename": "KeyError",
     "evalue": "\"['name'] not found in axis\"",
     "output_type": "error",
     "traceback": [
      "\u001B[0;31m---------------------------------------------------------------------------\u001B[0m",
      "\u001B[0;31mKeyError\u001B[0m                                  Traceback (most recent call last)",
      "Input \u001B[0;32mIn [115]\u001B[0m, in \u001B[0;36m<cell line: 1>\u001B[0;34m()\u001B[0m\n\u001B[0;32m----> 1\u001B[0m car_details \u001B[38;5;241m=\u001B[39m \u001B[43mcar_details\u001B[49m\u001B[38;5;241;43m.\u001B[39;49m\u001B[43mdrop\u001B[49m\u001B[43m(\u001B[49m\u001B[43mcolumns\u001B[49m\u001B[38;5;241;43m=\u001B[39;49m\u001B[38;5;124;43m'\u001B[39;49m\u001B[38;5;124;43mname\u001B[39;49m\u001B[38;5;124;43m'\u001B[39;49m\u001B[43m,\u001B[49m\u001B[43m \u001B[49m\u001B[43maxis\u001B[49m\u001B[38;5;241;43m=\u001B[39;49m\u001B[38;5;241;43m1\u001B[39;49m\u001B[43m)\u001B[49m\n\u001B[1;32m      2\u001B[0m car_details \u001B[38;5;241m=\u001B[39m car_details\u001B[38;5;241m.\u001B[39mdrop(columns\u001B[38;5;241m=\u001B[39m\u001B[38;5;124m'\u001B[39m\u001B[38;5;124mtorque\u001B[39m\u001B[38;5;124m'\u001B[39m, axis\u001B[38;5;241m=\u001B[39m\u001B[38;5;241m1\u001B[39m)\n\u001B[1;32m      3\u001B[0m car_details \u001B[38;5;241m=\u001B[39m pd\u001B[38;5;241m.\u001B[39mget_dummies(car_details)\n",
      "File \u001B[0;32m~/miniconda3/lib/python3.8/site-packages/pandas/util/_decorators.py:311\u001B[0m, in \u001B[0;36mdeprecate_nonkeyword_arguments.<locals>.decorate.<locals>.wrapper\u001B[0;34m(*args, **kwargs)\u001B[0m\n\u001B[1;32m    305\u001B[0m \u001B[38;5;28;01mif\u001B[39;00m \u001B[38;5;28mlen\u001B[39m(args) \u001B[38;5;241m>\u001B[39m num_allow_args:\n\u001B[1;32m    306\u001B[0m     warnings\u001B[38;5;241m.\u001B[39mwarn(\n\u001B[1;32m    307\u001B[0m         msg\u001B[38;5;241m.\u001B[39mformat(arguments\u001B[38;5;241m=\u001B[39marguments),\n\u001B[1;32m    308\u001B[0m         \u001B[38;5;167;01mFutureWarning\u001B[39;00m,\n\u001B[1;32m    309\u001B[0m         stacklevel\u001B[38;5;241m=\u001B[39mstacklevel,\n\u001B[1;32m    310\u001B[0m     )\n\u001B[0;32m--> 311\u001B[0m \u001B[38;5;28;01mreturn\u001B[39;00m \u001B[43mfunc\u001B[49m\u001B[43m(\u001B[49m\u001B[38;5;241;43m*\u001B[39;49m\u001B[43margs\u001B[49m\u001B[43m,\u001B[49m\u001B[43m \u001B[49m\u001B[38;5;241;43m*\u001B[39;49m\u001B[38;5;241;43m*\u001B[39;49m\u001B[43mkwargs\u001B[49m\u001B[43m)\u001B[49m\n",
      "File \u001B[0;32m~/miniconda3/lib/python3.8/site-packages/pandas/core/frame.py:4948\u001B[0m, in \u001B[0;36mDataFrame.drop\u001B[0;34m(self, labels, axis, index, columns, level, inplace, errors)\u001B[0m\n\u001B[1;32m   4800\u001B[0m \u001B[38;5;129m@deprecate_nonkeyword_arguments\u001B[39m(version\u001B[38;5;241m=\u001B[39m\u001B[38;5;28;01mNone\u001B[39;00m, allowed_args\u001B[38;5;241m=\u001B[39m[\u001B[38;5;124m\"\u001B[39m\u001B[38;5;124mself\u001B[39m\u001B[38;5;124m\"\u001B[39m, \u001B[38;5;124m\"\u001B[39m\u001B[38;5;124mlabels\u001B[39m\u001B[38;5;124m\"\u001B[39m])\n\u001B[1;32m   4801\u001B[0m \u001B[38;5;28;01mdef\u001B[39;00m \u001B[38;5;21mdrop\u001B[39m(\n\u001B[1;32m   4802\u001B[0m     \u001B[38;5;28mself\u001B[39m,\n\u001B[0;32m   (...)\u001B[0m\n\u001B[1;32m   4809\u001B[0m     errors: \u001B[38;5;28mstr\u001B[39m \u001B[38;5;241m=\u001B[39m \u001B[38;5;124m\"\u001B[39m\u001B[38;5;124mraise\u001B[39m\u001B[38;5;124m\"\u001B[39m,\n\u001B[1;32m   4810\u001B[0m ):\n\u001B[1;32m   4811\u001B[0m     \u001B[38;5;124;03m\"\"\"\u001B[39;00m\n\u001B[1;32m   4812\u001B[0m \u001B[38;5;124;03m    Drop specified labels from rows or columns.\u001B[39;00m\n\u001B[1;32m   4813\u001B[0m \n\u001B[0;32m   (...)\u001B[0m\n\u001B[1;32m   4946\u001B[0m \u001B[38;5;124;03m            weight  1.0     0.8\u001B[39;00m\n\u001B[1;32m   4947\u001B[0m \u001B[38;5;124;03m    \"\"\"\u001B[39;00m\n\u001B[0;32m-> 4948\u001B[0m     \u001B[38;5;28;01mreturn\u001B[39;00m \u001B[38;5;28;43msuper\u001B[39;49m\u001B[43m(\u001B[49m\u001B[43m)\u001B[49m\u001B[38;5;241;43m.\u001B[39;49m\u001B[43mdrop\u001B[49m\u001B[43m(\u001B[49m\n\u001B[1;32m   4949\u001B[0m \u001B[43m        \u001B[49m\u001B[43mlabels\u001B[49m\u001B[38;5;241;43m=\u001B[39;49m\u001B[43mlabels\u001B[49m\u001B[43m,\u001B[49m\n\u001B[1;32m   4950\u001B[0m \u001B[43m        \u001B[49m\u001B[43maxis\u001B[49m\u001B[38;5;241;43m=\u001B[39;49m\u001B[43maxis\u001B[49m\u001B[43m,\u001B[49m\n\u001B[1;32m   4951\u001B[0m \u001B[43m        \u001B[49m\u001B[43mindex\u001B[49m\u001B[38;5;241;43m=\u001B[39;49m\u001B[43mindex\u001B[49m\u001B[43m,\u001B[49m\n\u001B[1;32m   4952\u001B[0m \u001B[43m        \u001B[49m\u001B[43mcolumns\u001B[49m\u001B[38;5;241;43m=\u001B[39;49m\u001B[43mcolumns\u001B[49m\u001B[43m,\u001B[49m\n\u001B[1;32m   4953\u001B[0m \u001B[43m        \u001B[49m\u001B[43mlevel\u001B[49m\u001B[38;5;241;43m=\u001B[39;49m\u001B[43mlevel\u001B[49m\u001B[43m,\u001B[49m\n\u001B[1;32m   4954\u001B[0m \u001B[43m        \u001B[49m\u001B[43minplace\u001B[49m\u001B[38;5;241;43m=\u001B[39;49m\u001B[43minplace\u001B[49m\u001B[43m,\u001B[49m\n\u001B[1;32m   4955\u001B[0m \u001B[43m        \u001B[49m\u001B[43merrors\u001B[49m\u001B[38;5;241;43m=\u001B[39;49m\u001B[43merrors\u001B[49m\u001B[43m,\u001B[49m\n\u001B[1;32m   4956\u001B[0m \u001B[43m    \u001B[49m\u001B[43m)\u001B[49m\n",
      "File \u001B[0;32m~/miniconda3/lib/python3.8/site-packages/pandas/core/generic.py:4279\u001B[0m, in \u001B[0;36mNDFrame.drop\u001B[0;34m(self, labels, axis, index, columns, level, inplace, errors)\u001B[0m\n\u001B[1;32m   4277\u001B[0m \u001B[38;5;28;01mfor\u001B[39;00m axis, labels \u001B[38;5;129;01min\u001B[39;00m axes\u001B[38;5;241m.\u001B[39mitems():\n\u001B[1;32m   4278\u001B[0m     \u001B[38;5;28;01mif\u001B[39;00m labels \u001B[38;5;129;01mis\u001B[39;00m \u001B[38;5;129;01mnot\u001B[39;00m \u001B[38;5;28;01mNone\u001B[39;00m:\n\u001B[0;32m-> 4279\u001B[0m         obj \u001B[38;5;241m=\u001B[39m \u001B[43mobj\u001B[49m\u001B[38;5;241;43m.\u001B[39;49m\u001B[43m_drop_axis\u001B[49m\u001B[43m(\u001B[49m\u001B[43mlabels\u001B[49m\u001B[43m,\u001B[49m\u001B[43m \u001B[49m\u001B[43maxis\u001B[49m\u001B[43m,\u001B[49m\u001B[43m \u001B[49m\u001B[43mlevel\u001B[49m\u001B[38;5;241;43m=\u001B[39;49m\u001B[43mlevel\u001B[49m\u001B[43m,\u001B[49m\u001B[43m \u001B[49m\u001B[43merrors\u001B[49m\u001B[38;5;241;43m=\u001B[39;49m\u001B[43merrors\u001B[49m\u001B[43m)\u001B[49m\n\u001B[1;32m   4281\u001B[0m \u001B[38;5;28;01mif\u001B[39;00m inplace:\n\u001B[1;32m   4282\u001B[0m     \u001B[38;5;28mself\u001B[39m\u001B[38;5;241m.\u001B[39m_update_inplace(obj)\n",
      "File \u001B[0;32m~/miniconda3/lib/python3.8/site-packages/pandas/core/generic.py:4323\u001B[0m, in \u001B[0;36mNDFrame._drop_axis\u001B[0;34m(self, labels, axis, level, errors, consolidate, only_slice)\u001B[0m\n\u001B[1;32m   4321\u001B[0m         new_axis \u001B[38;5;241m=\u001B[39m axis\u001B[38;5;241m.\u001B[39mdrop(labels, level\u001B[38;5;241m=\u001B[39mlevel, errors\u001B[38;5;241m=\u001B[39merrors)\n\u001B[1;32m   4322\u001B[0m     \u001B[38;5;28;01melse\u001B[39;00m:\n\u001B[0;32m-> 4323\u001B[0m         new_axis \u001B[38;5;241m=\u001B[39m \u001B[43maxis\u001B[49m\u001B[38;5;241;43m.\u001B[39;49m\u001B[43mdrop\u001B[49m\u001B[43m(\u001B[49m\u001B[43mlabels\u001B[49m\u001B[43m,\u001B[49m\u001B[43m \u001B[49m\u001B[43merrors\u001B[49m\u001B[38;5;241;43m=\u001B[39;49m\u001B[43merrors\u001B[49m\u001B[43m)\u001B[49m\n\u001B[1;32m   4324\u001B[0m     indexer \u001B[38;5;241m=\u001B[39m axis\u001B[38;5;241m.\u001B[39mget_indexer(new_axis)\n\u001B[1;32m   4326\u001B[0m \u001B[38;5;66;03m# Case for non-unique axis\u001B[39;00m\n\u001B[1;32m   4327\u001B[0m \u001B[38;5;28;01melse\u001B[39;00m:\n",
      "File \u001B[0;32m~/miniconda3/lib/python3.8/site-packages/pandas/core/indexes/base.py:6644\u001B[0m, in \u001B[0;36mIndex.drop\u001B[0;34m(self, labels, errors)\u001B[0m\n\u001B[1;32m   6642\u001B[0m \u001B[38;5;28;01mif\u001B[39;00m mask\u001B[38;5;241m.\u001B[39many():\n\u001B[1;32m   6643\u001B[0m     \u001B[38;5;28;01mif\u001B[39;00m errors \u001B[38;5;241m!=\u001B[39m \u001B[38;5;124m\"\u001B[39m\u001B[38;5;124mignore\u001B[39m\u001B[38;5;124m\"\u001B[39m:\n\u001B[0;32m-> 6644\u001B[0m         \u001B[38;5;28;01mraise\u001B[39;00m \u001B[38;5;167;01mKeyError\u001B[39;00m(\u001B[38;5;124mf\u001B[39m\u001B[38;5;124m\"\u001B[39m\u001B[38;5;132;01m{\u001B[39;00m\u001B[38;5;28mlist\u001B[39m(labels[mask])\u001B[38;5;132;01m}\u001B[39;00m\u001B[38;5;124m not found in axis\u001B[39m\u001B[38;5;124m\"\u001B[39m)\n\u001B[1;32m   6645\u001B[0m     indexer \u001B[38;5;241m=\u001B[39m indexer[\u001B[38;5;241m~\u001B[39mmask]\n\u001B[1;32m   6646\u001B[0m \u001B[38;5;28;01mreturn\u001B[39;00m \u001B[38;5;28mself\u001B[39m\u001B[38;5;241m.\u001B[39mdelete(indexer)\n",
      "\u001B[0;31mKeyError\u001B[0m: \"['name'] not found in axis\""
     ]
    }
   ],
   "source": [
    "car_details = car_details.drop(columns='name', axis=1)\n",
    "car_details = car_details.drop(columns='torque', axis=1)\n",
    "car_details = pd.get_dummies(car_details)\n",
    "X_car_details = car_details.drop(columns='selling_price')\n",
    "Y_car_details = car_details['selling_price']\n",
    "\n",
    "\n",
    "X_car_details_training, \\\n",
    "X_car_details_test, \\\n",
    "selling_price_training, \\\n",
    "selling_price_test = train_test_split(X_car_details,\n",
    "                                      Y_car_details, test_size=0.80, random_state=24)"
   ],
   "metadata": {
    "collapsed": false,
    "pycharm": {
     "name": "#%%\n"
    }
   }
  },
  {
   "cell_type": "code",
   "execution_count": null,
   "outputs": [],
   "source": [
    "#X_car_details_training"
   ],
   "metadata": {
    "collapsed": false,
    "pycharm": {
     "name": "#%%\n"
    }
   }
  },
  {
   "cell_type": "code",
   "execution_count": null,
   "outputs": [],
   "source": [
    "#X_car_details_test"
   ],
   "metadata": {
    "collapsed": false,
    "pycharm": {
     "name": "#%%\n"
    }
   }
  },
  {
   "cell_type": "code",
   "execution_count": null,
   "outputs": [],
   "source": [
    "#selling_price_training"
   ],
   "metadata": {
    "collapsed": false,
    "pycharm": {
     "name": "#%%\n"
    }
   }
  },
  {
   "cell_type": "code",
   "execution_count": null,
   "outputs": [],
   "source": [
    "#selling_price_test"
   ],
   "metadata": {
    "collapsed": false,
    "pycharm": {
     "name": "#%%\n"
    }
   }
  },
  {
   "cell_type": "markdown",
   "source": [
    "## 1.4 OLS regression\n",
    "\n",
    "Обучить модель линейной регрессии методом наименьших квадратов (ordinary least squares linear regression), импортировав класс `LinearRegression` из библиотеки `sklearn.linear_model`. Оцените ошибку вашей модели при помощи метрики RMSE. Посмотрите, как влияет исключение из набора данных выбросов (экстремальных значений, например, больше 95 квантиля) на оценку ошибки.\n",
    "\n"
   ],
   "metadata": {
    "id": "47br_pClCv7K",
    "pycharm": {
     "name": "#%% md\n"
    }
   }
  },
  {
   "cell_type": "code",
   "source": [
    "from sklearn.linear_model import LinearRegression"
   ],
   "metadata": {
    "id": "4uxuHscFEaDD",
    "pycharm": {
     "name": "#%%\n"
    }
   },
   "execution_count": null,
   "outputs": []
  },
  {
   "cell_type": "code",
   "execution_count": null,
   "outputs": [],
   "source": [
    "'selling_price'\n",
    "linearRegression = LinearRegression()\n",
    "linearRegression.fit(X_car_details_training, selling_price_training)\n",
    "predict = linearRegression.predict(X_car_details_test)"
   ],
   "metadata": {
    "collapsed": false,
    "pycharm": {
     "name": "#%%\n"
    }
   }
  },
  {
   "cell_type": "code",
   "execution_count": 116,
   "outputs": [
    {
     "name": "stdout",
     "output_type": "stream",
     "text": [
      "RMSE = 475653.21934171754\n"
     ]
    }
   ],
   "source": [
    "# RMSE\n",
    "rmse = mean_squared_error(selling_price_test, predict, squared=False)\n",
    "print(f'RMSE = {rmse}')"
   ],
   "metadata": {
    "collapsed": false,
    "pycharm": {
     "name": "#%%\n"
    }
   }
  },
  {
   "cell_type": "code",
   "execution_count": 117,
   "outputs": [],
   "source": [
    "car_details_95 = car_details[car_details['selling_price'] <= np.quantile(Y_car_details, 0.95)]\n",
    "X_2 = car_details_95.drop(columns='selling_price')\n",
    "Y_2 = car_details_95['selling_price']"
   ],
   "metadata": {
    "collapsed": false,
    "pycharm": {
     "name": "#%%\n"
    }
   }
  },
  {
   "cell_type": "code",
   "execution_count": 118,
   "outputs": [],
   "source": [
    "X2_car_details_training, \\\n",
    "X2_car_details_test, \\\n",
    "selling_price_training2, \\\n",
    "selling_price_test2 = train_test_split(X_2,\n",
    "                                      Y_2, test_size=0.80, random_state=11)"
   ],
   "metadata": {
    "collapsed": false,
    "pycharm": {
     "name": "#%%\n"
    }
   }
  },
  {
   "cell_type": "code",
   "execution_count": 119,
   "outputs": [],
   "source": [
    "linearRegression = LinearRegression()\n",
    "linearRegression.fit(X2_car_details_training, selling_price_training2)\n",
    "predict = linearRegression.predict(X2_car_details_test)"
   ],
   "metadata": {
    "collapsed": false,
    "pycharm": {
     "name": "#%%\n"
    }
   }
  },
  {
   "cell_type": "code",
   "execution_count": 120,
   "outputs": [
    {
     "name": "stdout",
     "output_type": "stream",
     "text": [
      "RMSE = 182142.4056335723\n"
     ]
    }
   ],
   "source": [
    "rmse = mean_squared_error(selling_price_test2, predict, squared=False)\n",
    "print(f'RMSE = {rmse}')"
   ],
   "metadata": {
    "collapsed": false,
    "pycharm": {
     "name": "#%%\n"
    }
   }
  },
  {
   "cell_type": "markdown",
   "source": [
    "## 1.5 Ridge regression\n",
    "\n",
    "Обучить модель линейной регрессии с $L_2$-регуляризацией (Гребневая регрессия, Ridge regression), импортировав класс `Ridge` из библиотеки `sklearn.linear_model`. Оцените ошибку вашей модели при помощи метрики RMSE\n"
   ],
   "metadata": {
    "id": "XjP6TDE_C9BQ",
    "pycharm": {
     "name": "#%% md\n"
    }
   }
  },
  {
   "cell_type": "code",
   "source": [
    "from sklearn.linear_model import Ridge"
   ],
   "metadata": {
    "id": "J-jt6LkLEapV",
    "pycharm": {
     "name": "#%%\n"
    }
   },
   "execution_count": 121,
   "outputs": []
  },
  {
   "cell_type": "code",
   "execution_count": 122,
   "outputs": [],
   "source": [
    "ridgeRegression = Ridge()"
   ],
   "metadata": {
    "collapsed": false,
    "pycharm": {
     "name": "#%%\n"
    }
   }
  },
  {
   "cell_type": "code",
   "execution_count": 123,
   "outputs": [],
   "source": [
    "ridgeRegression.fit(X_car_details_training, selling_price_training)\n",
    "predict = ridgeRegression.predict(X_car_details_test)\n"
   ],
   "metadata": {
    "collapsed": false,
    "pycharm": {
     "name": "#%%\n"
    }
   }
  },
  {
   "cell_type": "code",
   "execution_count": 124,
   "outputs": [
    {
     "name": "stdout",
     "output_type": "stream",
     "text": [
      "RMSE = 475654.7241295368\n"
     ]
    }
   ],
   "source": [
    "rmse = mean_squared_error(selling_price_test, predict, squared=False)\n",
    "print(f'RMSE = {rmse}')"
   ],
   "metadata": {
    "collapsed": false,
    "pycharm": {
     "name": "#%%\n"
    }
   }
  },
  {
   "cell_type": "markdown",
   "source": [
    "## 1.6 Lasso regression\n",
    "\n",
    "Обучить модель линейной регрессии с $L_1$-регуляризацией (Lasso regression), импортировав класс `Lasso` из библиотеки `sklearn.linear_model`. Оцените ошибку вашей модели при помощи метрики RMSE"
   ],
   "metadata": {
    "id": "ZznS1COIC9D1",
    "pycharm": {
     "name": "#%% md\n"
    }
   }
  },
  {
   "cell_type": "code",
   "source": [
    "from sklearn.linear_model import Lasso"
   ],
   "metadata": {
    "id": "vjbsj9YDE_z6",
    "pycharm": {
     "name": "#%%\n"
    }
   },
   "execution_count": 125,
   "outputs": []
  },
  {
   "cell_type": "code",
   "execution_count": 126,
   "outputs": [],
   "source": [
    "lassoRegression = Lasso()"
   ],
   "metadata": {
    "collapsed": false,
    "pycharm": {
     "name": "#%%\n"
    }
   }
  },
  {
   "cell_type": "code",
   "execution_count": 127,
   "outputs": [],
   "source": [
    "lassoRegression.fit(X_car_details_training, selling_price_training)\n",
    "predict = lassoRegression.predict(X_car_details_test)"
   ],
   "metadata": {
    "collapsed": false,
    "pycharm": {
     "name": "#%%\n"
    }
   }
  },
  {
   "cell_type": "code",
   "execution_count": 128,
   "outputs": [
    {
     "name": "stdout",
     "output_type": "stream",
     "text": [
      "RMSE = 475625.2325457549\n"
     ]
    }
   ],
   "source": [
    "rmse = mean_squared_error(selling_price_test, predict, squared=False)\n",
    "print(f'RMSE = {rmse}')"
   ],
   "metadata": {
    "collapsed": false,
    "pycharm": {
     "name": "#%%\n"
    }
   }
  },
  {
   "cell_type": "markdown",
   "source": [
    "## 1.7 Оптимизация Ridge regression\n",
    "\n",
    "Сделайте перебор в цикле гиперпараметра `alpha` для модели `Ridge` от 0 до 1 с шагом 0.05. Постройте график ошибки RMSE на тестовых данных в зависимости от гиперпараметра `alpha`"
   ],
   "metadata": {
    "id": "cKzqNRmuE8Q8",
    "pycharm": {
     "name": "#%% md\n"
    }
   }
  },
  {
   "cell_type": "code",
   "source": [
    "root_mean_square_errors = []\n",
    "for alpha in np.arange(0, 1, 0.05):\n",
    "    ridgeRegression = Ridge(alpha=alpha)\n",
    "    ridgeRegression.fit(X_car_details_training, selling_price_training)\n",
    "    predict = ridgeRegression.predict(X_car_details_test)\n",
    "\n",
    "    root_mean_square_errors.append(mean_squared_error(selling_price_test, predict, squared=False))\n",
    "\n",
    "root_mean_square_errors"
   ],
   "metadata": {
    "id": "HN-dRkhqFBoX",
    "pycharm": {
     "name": "#%%\n"
    }
   },
   "execution_count": 129,
   "outputs": [
    {
     "data": {
      "text/plain": "[475625.25310909515,\n 475626.69484205334,\n 475628.1399862071,\n 475629.5885311134,\n 475631.040466354,\n 475632.49578154256,\n 475633.9544663219,\n 475635.41651036456,\n 475636.8819033715,\n 475638.35063507286,\n 475639.8226952288,\n 475641.29807362834,\n 475642.7767600889,\n 475644.25874445634,\n 475645.74401660595,\n 475647.2325664418,\n 475648.7243838962,\n 475650.2194589288,\n 475651.7177815305,\n 475653.21934171754]"
     },
     "execution_count": 129,
     "metadata": {},
     "output_type": "execute_result"
    }
   ]
  },
  {
   "cell_type": "code",
   "execution_count": 130,
   "outputs": [
    {
     "data": {
      "text/plain": "<Figure size 432x288 with 1 Axes>",
      "image/png": "[encoded data removed]"
     },
     "metadata": {},
     "output_type": "display_data"
    }
   ],
   "source": [
    "plt.plot(np.arange(0, 1, 0.05), root_mean_square_errors)\n",
    "plt.xlabel('alpha')\n",
    "plt.ylabel('rmse')\n",
    "plt.show()"
   ],
   "metadata": {
    "collapsed": false,
    "pycharm": {
     "name": "#%%\n"
    }
   }
  },
  {
   "cell_type": "markdown",
   "source": [
    "## 1.8 Вывод\n",
    "\n",
    "Сравните качество (величину ошибки) для моделей из пп. 1.4-1.7. Какая модель показала наилучший результат?"
   ],
   "metadata": {
    "id": "KPku-PN3Edbc",
    "pycharm": {
     "name": "#%% md\n"
    }
   }
  },
  {
   "cell_type": "markdown",
   "source": [
    "Ваш ответ: OLS regression"
   ],
   "metadata": {
    "id": "sMdiNzk-MFL8",
    "pycharm": {
     "name": "#%% md\n"
    }
   }
  },
  {
   "cell_type": "markdown",
   "source": [
    "# 2. Задача классификации (9 баллов)\n",
    "\n",
    "Постройте модель машинного обучения, решающую задачу классификации на вашем наборе данных. Задание считается выполненным, если соответствующая оценка качества на тестовой выборке >= baseline."
   ],
   "metadata": {
    "id": "6LnSFtGFCCUU",
    "pycharm": {
     "name": "#%% md\n"
    }
   }
  },
  {
   "cell_type": "markdown",
   "source": [
    "## 2.1 Загрузка данных\n",
    "\n",
    "Загрузите данные в датафрейм при помощи функции `read_csv` блиблиотеки `pandas`"
   ],
   "metadata": {
    "id": "YYsBIcEgV_K5",
    "pycharm": {
     "name": "#%% md\n"
    }
   }
  },
  {
   "cell_type": "code",
   "source": [
    "data = pd.read_csv('diabetes.csv')\n",
    "data\n",
    "\n",
    "data = data.dropna()\n",
    "for i in list(data.columns.values):\n",
    "    if i == 'Outcome':\n",
    "        break\n",
    "    data = data[data[i] != 0]\n",
    "data"
   ],
   "metadata": {
    "id": "-rsk-UpEMndr",
    "pycharm": {
     "name": "#%%\n"
    }
   },
   "execution_count": 752,
   "outputs": [
    {
     "data": {
      "text/plain": "     Pregnancies  Glucose  BloodPressure  SkinThickness  Insulin   BMI  \\\n3              1       89             66             23       94  28.1   \n6              3       78             50             32       88  31.0   \n8              2      197             70             45      543  30.5   \n13             1      189             60             23      846  30.1   \n14             5      166             72             19      175  25.8   \n..           ...      ...            ...            ...      ...   ...   \n751            1      121             78             39       74  39.0   \n755            1      128             88             39      110  36.5   \n760            2       88             58             26       16  28.4   \n763           10      101             76             48      180  32.9   \n765            5      121             72             23      112  26.2   \n\n     DiabetesPedigreeFunction  Age  Outcome  \n3                       0.167   21        0  \n6                       0.248   26        1  \n8                       0.158   53        1  \n13                      0.398   59        1  \n14                      0.587   51        1  \n..                        ...  ...      ...  \n751                     0.261   28        0  \n755                     1.057   37        1  \n760                     0.766   22        0  \n763                     0.171   63        0  \n765                     0.245   30        0  \n\n[336 rows x 9 columns]",
      "text/html": "<div>\n<style scoped>\n    .dataframe tbody tr th:only-of-type {\n        vertical-align: middle;\n    }\n\n    .dataframe tbody tr th {\n        vertical-align: top;\n    }\n\n    .dataframe thead th {\n        text-align: right;\n    }\n</style>\n<table border=\"1\" class=\"dataframe\">\n  <thead>\n    <tr style=\"text-align: right;\">\n      <th></th>\n      <th>Pregnancies</th>\n      <th>Glucose</th>\n      <th>BloodPressure</th>\n      <th>SkinThickness</th>\n      <th>Insulin</th>\n      <th>BMI</th>\n      <th>DiabetesPedigreeFunction</th>\n      <th>Age</th>\n      <th>Outcome</th>\n    </tr>\n  </thead>\n  <tbody>\n    <tr>\n      <th>3</th>\n      <td>1</td>\n      <td>89</td>\n      <td>66</td>\n      <td>23</td>\n      <td>94</td>\n      <td>28.1</td>\n      <td>0.167</td>\n      <td>21</td>\n      <td>0</td>\n    </tr>\n    <tr>\n      <th>6</th>\n      <td>3</td>\n      <td>78</td>\n      <td>50</td>\n      <td>32</td>\n      <td>88</td>\n      <td>31.0</td>\n      <td>0.248</td>\n      <td>26</td>\n      <td>1</td>\n    </tr>\n    <tr>\n      <th>8</th>\n      <td>2</td>\n      <td>197</td>\n      <td>70</td>\n      <td>45</td>\n      <td>543</td>\n      <td>30.5</td>\n      <td>0.158</td>\n      <td>53</td>\n      <td>1</td>\n    </tr>\n    <tr>\n      <th>13</th>\n      <td>1</td>\n      <td>189</td>\n      <td>60</td>\n      <td>23</td>\n      <td>846</td>\n      <td>30.1</td>\n      <td>0.398</td>\n      <td>59</td>\n      <td>1</td>\n    </tr>\n    <tr>\n      <th>14</th>\n      <td>5</td>\n      <td>166</td>\n      <td>72</td>\n      <td>19</td>\n      <td>175</td>\n      <td>25.8</td>\n      <td>0.587</td>\n      <td>51</td>\n      <td>1</td>\n    </tr>\n    <tr>\n      <th>...</th>\n      <td>...</td>\n      <td>...</td>\n      <td>...</td>\n      <td>...</td>\n      <td>...</td>\n      <td>...</td>\n      <td>...</td>\n      <td>...</td>\n      <td>...</td>\n    </tr>\n    <tr>\n      <th>751</th>\n      <td>1</td>\n      <td>121</td>\n      <td>78</td>\n      <td>39</td>\n      <td>74</td>\n      <td>39.0</td>\n      <td>0.261</td>\n      <td>28</td>\n      <td>0</td>\n    </tr>\n    <tr>\n      <th>755</th>\n      <td>1</td>\n      <td>128</td>\n      <td>88</td>\n      <td>39</td>\n      <td>110</td>\n      <td>36.5</td>\n      <td>1.057</td>\n      <td>37</td>\n      <td>1</td>\n    </tr>\n    <tr>\n      <th>760</th>\n      <td>2</td>\n      <td>88</td>\n      <td>58</td>\n      <td>26</td>\n      <td>16</td>\n      <td>28.4</td>\n      <td>0.766</td>\n      <td>22</td>\n      <td>0</td>\n    </tr>\n    <tr>\n      <th>763</th>\n      <td>10</td>\n      <td>101</td>\n      <td>76</td>\n      <td>48</td>\n      <td>180</td>\n      <td>32.9</td>\n      <td>0.171</td>\n      <td>63</td>\n      <td>0</td>\n    </tr>\n    <tr>\n      <th>765</th>\n      <td>5</td>\n      <td>121</td>\n      <td>72</td>\n      <td>23</td>\n      <td>112</td>\n      <td>26.2</td>\n      <td>0.245</td>\n      <td>30</td>\n      <td>0</td>\n    </tr>\n  </tbody>\n</table>\n<p>336 rows × 9 columns</p>\n</div>"
     },
     "execution_count": 752,
     "metadata": {},
     "output_type": "execute_result"
    }
   ]
  },
  {
   "cell_type": "markdown",
   "source": [
    "## 2.2 Разделение набора данных на тренировочный и тестовый\n",
    "\n",
    "Разделите набор данных на тренировочный и тестовый при помощи функции `train_test_split` библиотеки sklearn.model_selection.\n"
   ],
   "metadata": {
    "id": "zzQUGxgEV_K6",
    "pycharm": {
     "name": "#%% md\n"
    }
   }
  },
  {
   "cell_type": "code",
   "source": [
    "X = data.drop(columns='Outcome', axis=1)\n",
    "Y = data['Outcome']"
   ],
   "metadata": {
    "id": "bqm2X5sQMB7f",
    "pycharm": {
     "name": "#%%\n"
    }
   },
   "execution_count": 753,
   "outputs": []
  },
  {
   "cell_type": "code",
   "execution_count": 754,
   "outputs": [],
   "source": [
    "X_train, X_test, Y_train, Y_test = train_test_split(X,Y, train_size=0.80, random_state=79)"
   ],
   "metadata": {
    "collapsed": false,
    "pycharm": {
     "name": "#%%\n"
    }
   }
  },
  {
   "cell_type": "markdown",
   "source": [
    "## 2.3 Предобработка данных\n",
    "\n",
    "Проведите необходимую предобработку (перенормировку, выделение главных компонент и т.д.) данных. Приведите данные к такому виду, чтобы их можно было использовать для обучения моделей.\n"
   ],
   "metadata": {
    "id": "aWCEpEfqN3sh",
    "pycharm": {
     "name": "#%% md\n"
    }
   }
  },
  {
   "cell_type": "code",
   "source": [
    "from sklearn.preprocessing import MinMaxScaler\n",
    "from sklearn.decomposition import PCA"
   ],
   "metadata": {
    "id": "Gt9I4frj77rI",
    "pycharm": {
     "name": "#%%\n"
    }
   },
   "execution_count": 755,
   "outputs": []
  },
  {
   "cell_type": "code",
   "execution_count": 756,
   "outputs": [],
   "source": [
    "normalizer = MinMaxScaler()"
   ],
   "metadata": {
    "collapsed": false,
    "pycharm": {
     "name": "#%%\n"
    }
   }
  },
  {
   "cell_type": "code",
   "execution_count": 757,
   "outputs": [],
   "source": [
    "\n",
    "p_data = normalizer.fit_transform(X_train)\n",
    "p_data_test = normalizer.transform(X_test)"
   ],
   "metadata": {
    "collapsed": false,
    "pycharm": {
     "name": "#%%\n"
    }
   }
  },
  {
   "cell_type": "code",
   "execution_count": 758,
   "outputs": [],
   "source": [
    "pca = PCA(n_components=0.77)"
   ],
   "metadata": {
    "collapsed": false,
    "pycharm": {
     "name": "#%%\n"
    }
   }
  },
  {
   "cell_type": "code",
   "execution_count": 759,
   "outputs": [],
   "source": [
    "pca_train = pca.fit_transform(p_data)\n",
    "pca_test = pca.transform(p_data_test)"
   ],
   "metadata": {
    "collapsed": false,
    "pycharm": {
     "name": "#%%\n"
    }
   }
  },
  {
   "cell_type": "markdown",
   "source": [
    "## 2.4 Логистическая регрессия\n",
    "Обучите модель логистической регрессии, используя стандартную реализацию sklearn.linear_model.LogisticRegression. Оцените метрики качества полученной модели при помощи sklearn.metrics.classification_report и sklearn.metrics.f1_score."
   ],
   "metadata": {
    "id": "6ZY0qcwAWCRl",
    "pycharm": {
     "name": "#%% md\n"
    }
   }
  },
  {
   "cell_type": "code",
   "source": [
    "from sklearn.linear_model import LogisticRegression\n",
    "from sklearn.metrics import classification_report\n",
    "from sklearn.metrics import f1_score"
   ],
   "metadata": {
    "id": "1ZuWI2yFUENe",
    "pycharm": {
     "name": "#%%\n"
    }
   },
   "execution_count": 760,
   "outputs": []
  },
  {
   "cell_type": "code",
   "execution_count": 761,
   "outputs": [],
   "source": [
    "log_regression = LogisticRegression().fit(pca_train, Y_train)\n",
    "predict = log_regression.predict(pca_test)\n"
   ],
   "metadata": {
    "collapsed": false,
    "pycharm": {
     "name": "#%%\n"
    }
   }
  },
  {
   "cell_type": "code",
   "execution_count": 762,
   "outputs": [
    {
     "name": "stdout",
     "output_type": "stream",
     "text": [
      "              precision    recall  f1-score   support\n",
      "\n",
      "           0       0.83      0.92      0.87        48\n",
      "           1       0.73      0.55      0.63        20\n",
      "\n",
      "    accuracy                           0.81        68\n",
      "   macro avg       0.78      0.73      0.75        68\n",
      "weighted avg       0.80      0.81      0.80        68\n",
      "\n"
     ]
    }
   ],
   "source": [
    "print(classification_report(Y_test, predict))"
   ],
   "metadata": {
    "collapsed": false,
    "pycharm": {
     "name": "#%%\n"
    }
   }
  },
  {
   "cell_type": "code",
   "execution_count": 763,
   "outputs": [
    {
     "name": "stdout",
     "output_type": "stream",
     "text": [
      " Оценка метрики качества полученной модели : 0.7499292786421499\n"
     ]
    }
   ],
   "source": [
    "score = f1_score(Y_test, predict, average='macro')\n",
    "print(f' Оценка метрики качества полученной модели : {score}')"
   ],
   "metadata": {
    "collapsed": false,
    "pycharm": {
     "name": "#%%\n"
    }
   }
  },
  {
   "cell_type": "markdown",
   "source": [
    "## 2.5 Подбор гиперпараметра регуляризации\n",
    "\n",
    "При помощи sklearn.model_selection.GridSearchCV переберите оптимальные параметры C в диапазоне 0.01 до 1 с шагом 0.1."
   ],
   "metadata": {
    "id": "ZguvQfjQbB7d",
    "pycharm": {
     "name": "#%% md\n"
    }
   }
  },
  {
   "cell_type": "code",
   "source": [
    "from sklearn.model_selection import GridSearchCV"
   ],
   "metadata": {
    "id": "u7hufb2lWHiZ",
    "pycharm": {
     "name": "#%%\n"
    }
   },
   "execution_count": 764,
   "outputs": []
  },
  {
   "cell_type": "code",
   "execution_count": 889,
   "outputs": [
    {
     "name": "stdout",
     "output_type": "stream",
     "text": [
      " | BEST PARAMS:  0.81  | BEST RESULT:  0.7949685534591195  |\n"
     ]
    }
   ],
   "source": [
    "diapazone = {'C': np.arange(0.01, 1.01, 0.1)}\n",
    "l_reg = LogisticRegression()\n",
    "gridSearchCV = GridSearchCV(l_reg, diapazone, scoring='f1_micro').fit(pca_train, Y_train)\n",
    "\n",
    "print(' | BEST PARAMS: ', gridSearchCV.best_params_['C'], ' | BEST RESULT: ', gridSearchCV.best_score_, ' |')"
   ],
   "metadata": {
    "collapsed": false,
    "pycharm": {
     "name": "#%%\n"
    }
   }
  },
  {
   "cell_type": "markdown",
   "source": [
    "## 2.6 Выводы\n",
    "\n",
    "Сравните качество (величину ошибки) для моделей из пп. 2.4-2.5. Какая модель показала наилучший результат?"
   ],
   "metadata": {
    "id": "2DtdwkYVWYiH",
    "pycharm": {
     "name": "#%% md\n"
    }
   }
  },
  {
   "cell_type": "code",
   "execution_count": 766,
   "outputs": [
    {
     "name": "stdout",
     "output_type": "stream",
     "text": [
      "              precision    recall  f1-score   support\n",
      "\n",
      "           0       0.83      0.92      0.87        48\n",
      "           1       0.73      0.55      0.63        20\n",
      "\n",
      "    accuracy                           0.81        68\n",
      "   macro avg       0.78      0.73      0.75        68\n",
      "weighted avg       0.80      0.81      0.80        68\n",
      "\n",
      " Оценка метрики качества полученной модели : 0.7499292786421499\n"
     ]
    }
   ],
   "source": [
    "print(classification_report(Y_test, predict))\n",
    "print(f' Оценка метрики качества полученной модели : {score}')"
   ],
   "metadata": {
    "collapsed": false,
    "pycharm": {
     "name": "#%%\n"
    }
   }
  },
  {
   "cell_type": "code",
   "execution_count": 767,
   "outputs": [
    {
     "name": "stdout",
     "output_type": "stream",
     "text": [
      "              precision    recall  f1-score   support\n",
      "\n",
      "           0       0.83      0.94      0.88        48\n",
      "           1       0.79      0.55      0.65        20\n",
      "\n",
      "    accuracy                           0.82        68\n",
      "   macro avg       0.81      0.74      0.76        68\n",
      "weighted avg       0.82      0.82      0.81        68\n",
      "\n",
      " Оценка метрики качества полученной модели : 0.7647058823529411\n"
     ]
    }
   ],
   "source": [
    "predict = gridSearchCV.predict(pca_test)\n",
    "score = f1_score(Y_test, predict, average='macro')\n",
    "print(classification_report(Y_test, predict))\n",
    "print(f' Оценка метрики качества полученной модели : {score}')"
   ],
   "metadata": {
    "collapsed": false,
    "pycharm": {
     "name": "#%%\n"
    }
   }
  },
  {
   "cell_type": "markdown",
   "source": [
    "Ваш ответ: Качество модели из пп 2.5 выше чем в пп 2.4."
   ],
   "metadata": {
    "id": "H6gLeRADWdF9",
    "pycharm": {
     "name": "#%% md\n"
    }
   }
  },
  {
   "cell_type": "markdown",
   "source": [
    "# 3. Самописная линейная регрессиия (3 балла)\n",
    "\n",
    "Релизовать алгоритм построения модели линейной регрессии методом стохастического градиентного спуска (stochastic gradient descent, SGD) при помощи библиотек numpy, pytorch или tensorflow."
   ],
   "metadata": {
    "id": "nJkkqKFODKJd",
    "pycharm": {
     "name": "#%% md\n"
    }
   }
  },
  {
   "cell_type": "code",
   "source": [
    "class SGDLinearRegression:\n",
    "    def __init__(self, epsilon = 0.001):\n",
    "        self.w = None\n",
    "        self.bias = None\n",
    "        self.epsilon = epsilon\n",
    "        pass\n",
    "\n",
    "    def fit(self, X, y, iterations=500):\n",
    "        # Ваш код здесь\n",
    "        pass\n",
    "    \n",
    "    def predict(self, X):\n",
    "        # Ваш код здесь\n",
    "        pass\n"
   ],
   "metadata": {
    "id": "GmXdvDfMDV2n",
    "pycharm": {
     "name": "#%%\n"
    }
   },
   "execution_count": 768,
   "outputs": []
  },
  {
   "cell_type": "markdown",
   "source": [
    "3.2 Обучите самописную модель. Воспользуйтесь sklearn.model_selection.GridSearchCV для подбора гипермапарметра (шага обновления градиента) epsilon среди `numpy.geomspace(0.0001, 1, num=13)`. Постройте график функции ошибки для epsilon `[0.0001, 0.001, 0.01, 0.1, 1]`."
   ],
   "metadata": {
    "id": "id1LsNUzYFNZ",
    "pycharm": {
     "name": "#%% md\n"
    }
   }
  },
  {
   "cell_type": "code",
   "source": [],
   "metadata": {
    "id": "oLA6lBpuYEyW",
    "pycharm": {
     "name": "#%%\n"
    }
   },
   "execution_count": 768,
   "outputs": []
  },
  {
   "cell_type": "markdown",
   "source": [
    "3.3 Обучите модель на основе класса sklearn.linear_model.SGDRegressor с параметрами `alpha=0`. Сравните качество с вашими моделями из пункта 3.2."
   ],
   "metadata": {
    "id": "AH04Y_uuJ-uL",
    "pycharm": {
     "name": "#%% md\n"
    }
   }
  },
  {
   "cell_type": "code",
   "source": [],
   "metadata": {
    "id": "dhscwqqZMQMB",
    "pycharm": {
     "name": "#%%\n"
    }
   },
   "execution_count": 768,
   "outputs": []
  },
  {
   "cell_type": "markdown",
   "source": [
    "Ваш вывод (2-3 предложения):"
   ],
   "metadata": {
    "id": "x2YrYqJHKbhn",
    "pycharm": {
     "name": "#%% md\n"
    }
   }
  },
  {
   "cell_type": "markdown",
   "source": [
    "# 4. Самописная логистическая регрессиия (4 балла)\n",
    "\n",
    "Релизовать алгоритм построения модели логистической регрессии методом стохастического градиентного спуска (stochastic gradient descent, SGD) при помощи библиотек numpy, pytorch или tensorflow."
   ],
   "metadata": {
    "id": "ymPVCeWWJOU0",
    "pycharm": {
     "name": "#%% md\n"
    }
   }
  },
  {
   "cell_type": "code",
   "source": [
    "class SGDLogisticRegression:\n",
    "    def __init__(self, epsilon = 0.001):\n",
    "        self.w = None\n",
    "        self.bias = None\n",
    "        self.epsilon = epsilon\n",
    "        pass\n",
    "\n",
    "    def sigmoid(self, a):\n",
    "        return  1. / (1. + np.exp(-1. * a))\n",
    "\n",
    "    def fit(self, X, y, iterations=500):\n",
    "        # Ваш код здесь\n",
    "        pass\n",
    "\n",
    "\n",
    "    def predict(self, X):\n",
    "        # Ваш код здесь\n",
    "        pass\n"
   ],
   "metadata": {
    "id": "ynNyByt5Djfu",
    "pycharm": {
     "name": "#%%\n"
    }
   },
   "execution_count": 769,
   "outputs": []
  },
  {
   "cell_type": "markdown",
   "source": [
    "4.2 Обучите самописную модель. Воспользуйтесь sklearn.model_selection.GridSearchCV для подбора гипермапарметра (шага обновления градиента) epsilon среди `numpy.geomspace(0.0001, 1, num=13)`. Постройте график функции ошибки для epsilon `[0.0001, 0.001, 0.01, 0.1, 1]`."
   ],
   "metadata": {
    "id": "OMJmDxeWEXsA",
    "pycharm": {
     "name": "#%% md\n"
    }
   }
  },
  {
   "cell_type": "code",
   "source": [],
   "metadata": {
    "id": "_dhcxRqxEXU9",
    "pycharm": {
     "name": "#%%\n"
    }
   },
   "execution_count": 769,
   "outputs": []
  },
  {
   "cell_type": "markdown",
   "source": [
    " 4.3 Обучите модель на основе класса sklearn.linear_model.SGDClassifier с параметрами `loss='log'`. Сравните качество с вашими моделями из пункта 4.2."
   ],
   "metadata": {
    "id": "nRbKNb2OKYAl",
    "pycharm": {
     "name": "#%% md\n"
    }
   }
  },
  {
   "cell_type": "code",
   "source": [],
   "metadata": {
    "id": "7tNOK9X_JaIg",
    "pycharm": {
     "name": "#%%\n"
    }
   },
   "execution_count": 769,
   "outputs": []
  },
  {
   "cell_type": "markdown",
   "source": [
    "Ваш вывод (2-3 предложения):"
   ],
   "metadata": {
    "id": "GjokaJAtKo8c",
    "pycharm": {
     "name": "#%% md\n"
    }
   }
  },
  {
   "cell_type": "code",
   "source": [],
   "metadata": {
    "id": "LloKO6sUHaLr",
    "pycharm": {
     "name": "#%%\n"
    }
   },
   "execution_count": 769,
   "outputs": []
  }
 ]
}